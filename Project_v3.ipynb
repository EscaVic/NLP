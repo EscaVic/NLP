{
 "cells": [
  {
   "cell_type": "code",
   "execution_count": 1,
   "metadata": {},
   "outputs": [
    {
     "name": "stderr",
     "output_type": "stream",
     "text": [
      "C:\\Users\\vwang80\\Anaconda3\\lib\\site-packages\\tensorflow\\python\\framework\\dtypes.py:526: FutureWarning: Passing (type, 1) or '1type' as a synonym of type is deprecated; in a future version of numpy, it will be understood as (type, (1,)) / '(1,)type'.\n",
      "  _np_qint8 = np.dtype([(\"qint8\", np.int8, 1)])\n",
      "C:\\Users\\vwang80\\Anaconda3\\lib\\site-packages\\tensorflow\\python\\framework\\dtypes.py:527: FutureWarning: Passing (type, 1) or '1type' as a synonym of type is deprecated; in a future version of numpy, it will be understood as (type, (1,)) / '(1,)type'.\n",
      "  _np_quint8 = np.dtype([(\"quint8\", np.uint8, 1)])\n",
      "C:\\Users\\vwang80\\Anaconda3\\lib\\site-packages\\tensorflow\\python\\framework\\dtypes.py:528: FutureWarning: Passing (type, 1) or '1type' as a synonym of type is deprecated; in a future version of numpy, it will be understood as (type, (1,)) / '(1,)type'.\n",
      "  _np_qint16 = np.dtype([(\"qint16\", np.int16, 1)])\n",
      "C:\\Users\\vwang80\\Anaconda3\\lib\\site-packages\\tensorflow\\python\\framework\\dtypes.py:529: FutureWarning: Passing (type, 1) or '1type' as a synonym of type is deprecated; in a future version of numpy, it will be understood as (type, (1,)) / '(1,)type'.\n",
      "  _np_quint16 = np.dtype([(\"quint16\", np.uint16, 1)])\n",
      "C:\\Users\\vwang80\\Anaconda3\\lib\\site-packages\\tensorflow\\python\\framework\\dtypes.py:530: FutureWarning: Passing (type, 1) or '1type' as a synonym of type is deprecated; in a future version of numpy, it will be understood as (type, (1,)) / '(1,)type'.\n",
      "  _np_qint32 = np.dtype([(\"qint32\", np.int32, 1)])\n",
      "C:\\Users\\vwang80\\Anaconda3\\lib\\site-packages\\tensorflow\\python\\framework\\dtypes.py:535: FutureWarning: Passing (type, 1) or '1type' as a synonym of type is deprecated; in a future version of numpy, it will be understood as (type, (1,)) / '(1,)type'.\n",
      "  np_resource = np.dtype([(\"resource\", np.ubyte, 1)])\n"
     ]
    }
   ],
   "source": [
    "# imports\n",
    "import pandas as pd\n",
    "\n",
    "# This tells matplotlib not to try opening a new window for each plot.\n",
    "%matplotlib inline\n",
    "\n",
    "# Import a bunch of libraries.\n",
    "import json\n",
    "import time\n",
    "import pandas as pd\n",
    "import numpy as np\n",
    "import matplotlib.pyplot as plt\n",
    "from sklearn.model_selection import GridSearchCV\n",
    "from sklearn.metrics import classification_report\n",
    "\n",
    "# cnn imports\n",
    "import tensorflow as tf\n",
    "from tensorflow.keras.preprocessing.text import Tokenizer\n",
    "from tensorflow.keras.layers import Flatten, LSTM, Bidirectional, Layer, Input\n",
    "from tensorflow.python.keras.layers import Input, Dense, Embedding, BatchNormalization, Dropout\n",
    "from tensorflow.keras.models import Sequential,Model\n",
    "from tensorflow.keras.preprocessing.sequence import pad_sequences\n",
    "\n",
    "from numpy import array\n",
    "\n",
    "from datetime import datetime\n",
    "\n",
    "\n",
    "# Set the randomizer seed so results are the same each time.\n",
    "np.random.seed(0)"
   ]
  },
  {
   "cell_type": "code",
   "execution_count": 2,
   "metadata": {},
   "outputs": [],
   "source": [
    "# Load data\n",
    "bodies_df = pd.read_csv(\"train_bodies.csv\")\n",
    "stances_df =  pd.read_csv(\"train_stances.csv\")\n",
    "\n",
    "# Examine data shape\n",
    "bodies_df.shape\n",
    "bodies_df.head()\n",
    "\n",
    "stances_df.shape\n",
    "stances_df.head()\n",
    "\n",
    "stances_df.head()\n",
    "#combine body and stance tables\n",
    "combined = pd.concat([stances_df.set_index('Body ID'),bodies_df.set_index('Body ID')], axis=1, join='inner').reset_index()\n",
    "\n",
    "combined.shape\n",
    "\n",
    "combined.head()\n",
    "\n",
    "combined_df_t=combined[['Headline', 'articleBody', 'Stance']]\n",
    "\n",
    "combined_df_t.head()\n",
    "\n",
    "# Extract column for just labels\n",
    "labels_t = combined_df_t['Stance']\n"
   ]
  },
  {
   "cell_type": "code",
   "execution_count": 3,
   "metadata": {},
   "outputs": [
    {
     "data": {
      "text/plain": [
       "(1683, 2)"
      ]
     },
     "execution_count": 3,
     "metadata": {},
     "output_type": "execute_result"
    }
   ],
   "source": [
    "# Examine data shape\n",
    "bodies_df.shape"
   ]
  },
  {
   "cell_type": "code",
   "execution_count": 4,
   "metadata": {},
   "outputs": [
    {
     "data": {
      "text/plain": [
       "(49972, 3)"
      ]
     },
     "execution_count": 4,
     "metadata": {},
     "output_type": "execute_result"
    }
   ],
   "source": [
    "stances_df.shape"
   ]
  },
  {
   "cell_type": "code",
   "execution_count": 5,
   "metadata": {},
   "outputs": [
    {
     "data": {
      "text/html": [
       "<div>\n",
       "<style scoped>\n",
       "    .dataframe tbody tr th:only-of-type {\n",
       "        vertical-align: middle;\n",
       "    }\n",
       "\n",
       "    .dataframe tbody tr th {\n",
       "        vertical-align: top;\n",
       "    }\n",
       "\n",
       "    .dataframe thead th {\n",
       "        text-align: right;\n",
       "    }\n",
       "</style>\n",
       "<table border=\"1\" class=\"dataframe\">\n",
       "  <thead>\n",
       "    <tr style=\"text-align: right;\">\n",
       "      <th></th>\n",
       "      <th>Headline</th>\n",
       "      <th>articleBody</th>\n",
       "      <th>Stance</th>\n",
       "    </tr>\n",
       "  </thead>\n",
       "  <tbody>\n",
       "    <tr>\n",
       "      <th>0</th>\n",
       "      <td>Police find mass graves with at least '15 bodi...</td>\n",
       "      <td>Danny Boyle is directing the untitled film\\n\\n...</td>\n",
       "      <td>unrelated</td>\n",
       "    </tr>\n",
       "    <tr>\n",
       "      <th>1</th>\n",
       "      <td>Hundreds of Palestinians flee floods in Gaza a...</td>\n",
       "      <td>Hundreds of Palestinians were evacuated from t...</td>\n",
       "      <td>agree</td>\n",
       "    </tr>\n",
       "    <tr>\n",
       "      <th>2</th>\n",
       "      <td>Christian Bale passes on role of Steve Jobs, a...</td>\n",
       "      <td>30-year-old Moscow resident was hospitalized w...</td>\n",
       "      <td>unrelated</td>\n",
       "    </tr>\n",
       "    <tr>\n",
       "      <th>3</th>\n",
       "      <td>HBO and Apple in Talks for $15/Month Apple TV ...</td>\n",
       "      <td>(Reuters) - A Canadian soldier was shot at the...</td>\n",
       "      <td>unrelated</td>\n",
       "    </tr>\n",
       "    <tr>\n",
       "      <th>4</th>\n",
       "      <td>Spider burrowed through tourist's stomach and ...</td>\n",
       "      <td>Fear not arachnophobes, the story of Bunbury's...</td>\n",
       "      <td>disagree</td>\n",
       "    </tr>\n",
       "  </tbody>\n",
       "</table>\n",
       "</div>"
      ],
      "text/plain": [
       "                                            Headline  \\\n",
       "0  Police find mass graves with at least '15 bodi...   \n",
       "1  Hundreds of Palestinians flee floods in Gaza a...   \n",
       "2  Christian Bale passes on role of Steve Jobs, a...   \n",
       "3  HBO and Apple in Talks for $15/Month Apple TV ...   \n",
       "4  Spider burrowed through tourist's stomach and ...   \n",
       "\n",
       "                                         articleBody     Stance  \n",
       "0  Danny Boyle is directing the untitled film\\n\\n...  unrelated  \n",
       "1  Hundreds of Palestinians were evacuated from t...      agree  \n",
       "2  30-year-old Moscow resident was hospitalized w...  unrelated  \n",
       "3  (Reuters) - A Canadian soldier was shot at the...  unrelated  \n",
       "4  Fear not arachnophobes, the story of Bunbury's...   disagree  "
      ]
     },
     "execution_count": 5,
     "metadata": {},
     "output_type": "execute_result"
    }
   ],
   "source": [
    "combined_df_t.head()"
   ]
  },
  {
   "cell_type": "code",
   "execution_count": 6,
   "metadata": {},
   "outputs": [
    {
     "data": {
      "text/plain": [
       "(49972, 3)"
      ]
     },
     "execution_count": 6,
     "metadata": {},
     "output_type": "execute_result"
    }
   ],
   "source": [
    "combined_df_t.shape"
   ]
  },
  {
   "cell_type": "code",
   "execution_count": 7,
   "metadata": {},
   "outputs": [],
   "source": [
    "# Drop columns that are strings\n",
    "all_data_processed = combined_df_t.drop(['Stance'], axis=1)\n",
    "#all_data_processed = combined_df_t.drop(['articleBody'], axis=1)"
   ]
  },
  {
   "cell_type": "code",
   "execution_count": 8,
   "metadata": {},
   "outputs": [],
   "source": [
    "new_labels1= labels_t.copy()\n",
    "\n",
    "new_labels1[new_labels1=='agree']=1\n",
    "new_labels1[new_labels1=='unrelated']=0\n",
    "new_labels1[new_labels1=='disagree']=0\n",
    "new_labels1[new_labels1=='discuss']=0\n"
   ]
  },
  {
   "cell_type": "code",
   "execution_count": 9,
   "metadata": {},
   "outputs": [
    {
     "data": {
      "text/plain": [
       "0        0\n",
       "1        1\n",
       "2        0\n",
       "3        0\n",
       "4        0\n",
       "        ..\n",
       "49967    0\n",
       "49968    0\n",
       "49969    1\n",
       "49970    0\n",
       "49971    0\n",
       "Name: Stance, Length: 49972, dtype: object"
      ]
     },
     "execution_count": 9,
     "metadata": {},
     "output_type": "execute_result"
    }
   ],
   "source": [
    "new_labels1"
   ]
  },
  {
   "cell_type": "code",
   "execution_count": 10,
   "metadata": {},
   "outputs": [
    {
     "data": {
      "text/plain": [
       "0.07360121668134155"
      ]
     },
     "execution_count": 10,
     "metadata": {},
     "output_type": "execute_result"
    }
   ],
   "source": [
    "sum(new_labels1)/len(new_labels1)"
   ]
  },
  {
   "cell_type": "code",
   "execution_count": 11,
   "metadata": {},
   "outputs": [
    {
     "data": {
      "text/html": [
       "<div>\n",
       "<style scoped>\n",
       "    .dataframe tbody tr th:only-of-type {\n",
       "        vertical-align: middle;\n",
       "    }\n",
       "\n",
       "    .dataframe tbody tr th {\n",
       "        vertical-align: top;\n",
       "    }\n",
       "\n",
       "    .dataframe thead th {\n",
       "        text-align: right;\n",
       "    }\n",
       "</style>\n",
       "<table border=\"1\" class=\"dataframe\">\n",
       "  <thead>\n",
       "    <tr style=\"text-align: right;\">\n",
       "      <th></th>\n",
       "      <th>Headline</th>\n",
       "      <th>articleBody</th>\n",
       "    </tr>\n",
       "  </thead>\n",
       "  <tbody>\n",
       "    <tr>\n",
       "      <th>0</th>\n",
       "      <td>Police find mass graves with at least '15 bodi...</td>\n",
       "      <td>Danny Boyle is directing the untitled film\\n\\n...</td>\n",
       "    </tr>\n",
       "    <tr>\n",
       "      <th>1</th>\n",
       "      <td>Hundreds of Palestinians flee floods in Gaza a...</td>\n",
       "      <td>Hundreds of Palestinians were evacuated from t...</td>\n",
       "    </tr>\n",
       "    <tr>\n",
       "      <th>2</th>\n",
       "      <td>Christian Bale passes on role of Steve Jobs, a...</td>\n",
       "      <td>30-year-old Moscow resident was hospitalized w...</td>\n",
       "    </tr>\n",
       "    <tr>\n",
       "      <th>3</th>\n",
       "      <td>HBO and Apple in Talks for $15/Month Apple TV ...</td>\n",
       "      <td>(Reuters) - A Canadian soldier was shot at the...</td>\n",
       "    </tr>\n",
       "    <tr>\n",
       "      <th>4</th>\n",
       "      <td>Spider burrowed through tourist's stomach and ...</td>\n",
       "      <td>Fear not arachnophobes, the story of Bunbury's...</td>\n",
       "    </tr>\n",
       "  </tbody>\n",
       "</table>\n",
       "</div>"
      ],
      "text/plain": [
       "                                            Headline  \\\n",
       "0  Police find mass graves with at least '15 bodi...   \n",
       "1  Hundreds of Palestinians flee floods in Gaza a...   \n",
       "2  Christian Bale passes on role of Steve Jobs, a...   \n",
       "3  HBO and Apple in Talks for $15/Month Apple TV ...   \n",
       "4  Spider burrowed through tourist's stomach and ...   \n",
       "\n",
       "                                         articleBody  \n",
       "0  Danny Boyle is directing the untitled film\\n\\n...  \n",
       "1  Hundreds of Palestinians were evacuated from t...  \n",
       "2  30-year-old Moscow resident was hospitalized w...  \n",
       "3  (Reuters) - A Canadian soldier was shot at the...  \n",
       "4  Fear not arachnophobes, the story of Bunbury's...  "
      ]
     },
     "execution_count": 11,
     "metadata": {},
     "output_type": "execute_result"
    }
   ],
   "source": [
    "all_data_processed.head()"
   ]
  },
  {
   "cell_type": "code",
   "execution_count": 12,
   "metadata": {},
   "outputs": [],
   "source": [
    "# Set some variables to hold test, dev, and training data.\n",
    "test_data, test_labels = all_data_processed[:1000], new_labels1[:1000]\n",
    "#dev_data, dev_labels = all_data_processed[17505:23340], labels[17505:23340]\n",
    "train_data, train_labels = all_data_processed[1000:], new_labels1[1000:]"
   ]
  },
  {
   "cell_type": "code",
   "execution_count": 13,
   "metadata": {},
   "outputs": [
    {
     "data": {
      "text/plain": [
       "1000"
      ]
     },
     "execution_count": 13,
     "metadata": {},
     "output_type": "execute_result"
    }
   ],
   "source": [
    "len(test_data)"
   ]
  },
  {
   "cell_type": "code",
   "execution_count": 14,
   "metadata": {},
   "outputs": [
    {
     "data": {
      "text/plain": [
       "48972"
      ]
     },
     "execution_count": 14,
     "metadata": {},
     "output_type": "execute_result"
    }
   ],
   "source": [
    "len(train_data)"
   ]
  },
  {
   "cell_type": "code",
   "execution_count": 15,
   "metadata": {},
   "outputs": [],
   "source": [
    "# Used GLoVE embeddings\n",
    "embeddings_dict = {}\n",
    "with open(\"glove.6B.50d.txt\", 'r', encoding='utf-8') as f:\n",
    "    for line in f:\n",
    "        values = line.split()\n",
    "        token = values[0]\n",
    "        vector = np.asarray(values[1:], \"float32\")\n",
    "        embeddings_dict[token] = vector"
   ]
  },
  {
   "cell_type": "code",
   "execution_count": 16,
   "metadata": {},
   "outputs": [],
   "source": [
    "def sent_to_ids(sentences):\n",
    "    \"\"\"\n",
    "    converting a list of strings to a list of lists of word ids\n",
    "    \"\"\"\n",
    "    \n",
    "    # TODO - Update Regular Expression for parsing (TINA)\n",
    "    # Improvement Option (Remove trailing 's') Check Missing list for optimization\n",
    "    \n",
    "    #re.sub('[^A-Za-z0-9]+', '', mystring)\n",
    "    #cleanString = re.sub('\\W+','', string ) \n",
    "    \n",
    "    bad_chars = [';', ':', '!', \"*\"] \n",
    "    \n",
    "    text_ids = []\n",
    "    example = []\n",
    "    sentences = sentences.replace('.','')\n",
    "    sentences = sentences.replace('\\'','')\n",
    "    sentences = sentences.replace(',','')\n",
    "    sentences = sentences.replace('$','')\n",
    "    sentences = sentences.replace('/',' ')\n",
    "    sentences = sentences.replace('','')\n",
    "    for word in sentences.split(' '):\n",
    "        #word.lower()\n",
    "        temp = word.lower()\n",
    "        #temp.replace('\\'','')\n",
    "        if temp in embeddings_dict:\n",
    "            example.append(embeddings_dict[temp])\n",
    "        else:\n",
    "            print(\"Missing \", temp)            \n",
    "    text_ids.append(example)\n",
    "\n",
    "    return  text_ids   "
   ]
  },
  {
   "cell_type": "code",
   "execution_count": 17,
   "metadata": {},
   "outputs": [],
   "source": [
    "all_data_emb = all_data_processed.copy()"
   ]
  },
  {
   "cell_type": "code",
   "execution_count": 18,
   "metadata": {},
   "outputs": [
    {
     "data": {
      "text/plain": [
       "'Hundreds of Palestinians flee floods in Gaza as Israel opens dams'"
      ]
     },
     "execution_count": 18,
     "metadata": {},
     "output_type": "execute_result"
    }
   ],
   "source": [
    "all_data_processed['Headline'][1]"
   ]
  },
  {
   "cell_type": "code",
   "execution_count": 19,
   "metadata": {},
   "outputs": [
    {
     "data": {
      "text/html": [
       "<div>\n",
       "<style scoped>\n",
       "    .dataframe tbody tr th:only-of-type {\n",
       "        vertical-align: middle;\n",
       "    }\n",
       "\n",
       "    .dataframe tbody tr th {\n",
       "        vertical-align: top;\n",
       "    }\n",
       "\n",
       "    .dataframe thead th {\n",
       "        text-align: right;\n",
       "    }\n",
       "</style>\n",
       "<table border=\"1\" class=\"dataframe\">\n",
       "  <thead>\n",
       "    <tr style=\"text-align: right;\">\n",
       "      <th></th>\n",
       "      <th>Headline</th>\n",
       "      <th>articleBody</th>\n",
       "    </tr>\n",
       "  </thead>\n",
       "  <tbody>\n",
       "    <tr>\n",
       "      <th>1000</th>\n",
       "      <td>6 hidden mass graves may hold missing Mexican ...</td>\n",
       "      <td>Apple is hosting its ‘Spring Forward’ event to...</td>\n",
       "    </tr>\n",
       "    <tr>\n",
       "      <th>1001</th>\n",
       "      <td>Nigeria Says It Struck A Cease-Fire With Boko ...</td>\n",
       "      <td>Nicaragua's government said that a mysterious ...</td>\n",
       "    </tr>\n",
       "    <tr>\n",
       "      <th>1002</th>\n",
       "      <td>Audio of gunfire in Michael Brown case authent...</td>\n",
       "      <td>While it has not been verified, an alleged aud...</td>\n",
       "    </tr>\n",
       "    <tr>\n",
       "      <th>1003</th>\n",
       "      <td>Star Wars 7: JJ Abrams want to move release to...</td>\n",
       "      <td>Yes, we wished it were true too, but no, Fox N...</td>\n",
       "    </tr>\n",
       "    <tr>\n",
       "      <th>1004</th>\n",
       "      <td>'The youngest martyr - the cub of al-Baghdadi'...</td>\n",
       "      <td>A video posted by ISIL terrorists in Iraq purp...</td>\n",
       "    </tr>\n",
       "    <tr>\n",
       "      <th>...</th>\n",
       "      <td>...</td>\n",
       "      <td>...</td>\n",
       "    </tr>\n",
       "    <tr>\n",
       "      <th>49967</th>\n",
       "      <td>Urgent: The Leader of ISIL 'Abu Bakr al-Baghda...</td>\n",
       "      <td>(CNN) -- Boko Haram laughed off Nigeria's anno...</td>\n",
       "    </tr>\n",
       "    <tr>\n",
       "      <th>49968</th>\n",
       "      <td>Brian Williams slams social media for speculat...</td>\n",
       "      <td>Along with unveiling the Apple Watch earlier t...</td>\n",
       "    </tr>\n",
       "    <tr>\n",
       "      <th>49969</th>\n",
       "      <td>Mexico Says Missing Students Not Found In Firs...</td>\n",
       "      <td>The bodies found in a mass grave were confirme...</td>\n",
       "    </tr>\n",
       "    <tr>\n",
       "      <th>49970</th>\n",
       "      <td>US Lawmaker: Ten ISIS Fighters Have Been Appre...</td>\n",
       "      <td>Rep. Duncan Hunter (R-CA) told Greta Van Suste...</td>\n",
       "    </tr>\n",
       "    <tr>\n",
       "      <th>49971</th>\n",
       "      <td>Shots Heard In Alleged Brown Shooting Recordin...</td>\n",
       "      <td>A married TV actor who met a young woman and k...</td>\n",
       "    </tr>\n",
       "  </tbody>\n",
       "</table>\n",
       "<p>48972 rows × 2 columns</p>\n",
       "</div>"
      ],
      "text/plain": [
       "                                                Headline  \\\n",
       "1000   6 hidden mass graves may hold missing Mexican ...   \n",
       "1001   Nigeria Says It Struck A Cease-Fire With Boko ...   \n",
       "1002   Audio of gunfire in Michael Brown case authent...   \n",
       "1003   Star Wars 7: JJ Abrams want to move release to...   \n",
       "1004   'The youngest martyr - the cub of al-Baghdadi'...   \n",
       "...                                                  ...   \n",
       "49967  Urgent: The Leader of ISIL 'Abu Bakr al-Baghda...   \n",
       "49968  Brian Williams slams social media for speculat...   \n",
       "49969  Mexico Says Missing Students Not Found In Firs...   \n",
       "49970  US Lawmaker: Ten ISIS Fighters Have Been Appre...   \n",
       "49971  Shots Heard In Alleged Brown Shooting Recordin...   \n",
       "\n",
       "                                             articleBody  \n",
       "1000   Apple is hosting its ‘Spring Forward’ event to...  \n",
       "1001   Nicaragua's government said that a mysterious ...  \n",
       "1002   While it has not been verified, an alleged aud...  \n",
       "1003   Yes, we wished it were true too, but no, Fox N...  \n",
       "1004   A video posted by ISIL terrorists in Iraq purp...  \n",
       "...                                                  ...  \n",
       "49967  (CNN) -- Boko Haram laughed off Nigeria's anno...  \n",
       "49968  Along with unveiling the Apple Watch earlier t...  \n",
       "49969  The bodies found in a mass grave were confirme...  \n",
       "49970  Rep. Duncan Hunter (R-CA) told Greta Van Suste...  \n",
       "49971  A married TV actor who met a young woman and k...  \n",
       "\n",
       "[48972 rows x 2 columns]"
      ]
     },
     "execution_count": 19,
     "metadata": {},
     "output_type": "execute_result"
    }
   ],
   "source": [
    "train_data"
   ]
  },
  {
   "cell_type": "code",
   "execution_count": 28,
   "metadata": {},
   "outputs": [
    {
     "name": "stdout",
     "output_type": "stream",
     "text": [
      "Loaded 400000 word vectors.\n"
     ]
    }
   ],
   "source": [
    "embeddings_index_ex = dict()\n",
    "with open(\"glove.6B.50d.txt\", 'r', encoding='utf-8') as f:\n",
    "    for line in f:\n",
    "        values = line.split()\n",
    "        word = values[0]\n",
    "        coefs = np.asarray(values[1:], dtype='float32')\n",
    "        embeddings_index_ex[word] = coefs\n",
    "#    f.close()\n",
    "print('Loaded %s word vectors.' % len(embeddings_index_ex))"
   ]
  },
  {
   "cell_type": "code",
   "execution_count": 29,
   "metadata": {},
   "outputs": [],
   "source": [
    "# create a weight matrix for words in training docs\n",
    "embedding_matrix_ex = np.zeros((vocab_size, 50))\n",
    "for word, i in t.word_index.items():\n",
    "    embedding_vector = embeddings_index_ex.get(word)\n",
    "    if embedding_vector is not None:\n",
    "        embedding_matrix_ex[i] = embedding_vector"
   ]
  },
  {
   "cell_type": "code",
   "execution_count": 23,
   "metadata": {},
   "outputs": [],
   "source": [
    "# This is a hepler method to display and plot results\n",
    "def showResults(history):\n",
    "    val_acc = np.array(history.history['val_main_output_acc'])\n",
    "    train_ac = np.array(history.history['main_output_acc'])\n",
    "    print(\"Best validation Accuracy: %.4f\" % max(val_acc))\n",
    "    print(\"Best train Accuracy: %.4f\" %  max(train_ac))\n",
    "\n",
    "    plt.figure(figsize=(14, 4))\n",
    "    ax = plt.subplot(121)\n",
    "\n",
    "    # Plot Loss Vs Epoch for Train and validation Sets\n",
    "    plt.xlabel(\"Epochs\")\n",
    "    plt.ylabel(\"Loss\")\n",
    "    plt.plot( [i + 1 for i in range(len(history.history['loss']))], history.history['loss'],  '-gD', marker='o', label=\"Training loss\")\n",
    "    plt.plot( [i + 1 for i in range(len(history.history['val_loss']))], history.history['val_loss'],  '-bD', marker='o', label=\"Validation loss\")\n",
    "    plt.legend(loc=\"best\")\n",
    "\n",
    "    # Plot Accuracy Vs Epoch for Train and validation Sets\n",
    "    ax = plt.subplot(122)\n",
    "    plt.xlabel(\"Epochs\")\n",
    "    plt.ylabel(\"Accuracy\")\n",
    "    plt.plot( [i + 1 for i in range(len(history.history['main_output_acc']))], history.history['main_output_acc'],  '-gD', marker='o', label=\"Train Accuracy\")\n",
    "    plt.plot( [i + 1 for i in range(len(history.history['val_main_output_acc']))], history.history['val_main_output_acc'],  '-bD', marker='o', label=\"Validation Accuracy\")\n",
    "    plt.legend(loc=\"best\")"
   ]
  },
  {
   "cell_type": "code",
   "execution_count": 24,
   "metadata": {},
   "outputs": [],
   "source": [
    "def encodeDoc(data, size):\n",
    "# integer encode the documents\n",
    "#encoded_docs = t.texts_to_sequences(all_data_processed['Headline'])\n",
    "#encoded_docs = t.texts_to_sequences(train_data)\n",
    "    encoded_docs = t.texts_to_sequences(data)\n",
    "\n",
    "    #print(encoded_docs)\n",
    "    # pad documents to a max length of 4 words\n",
    "    max_length = size\n",
    "    padded_docs = pad_sequences(encoded_docs, maxlen=max_length, padding='post')\n",
    "    #print(padded_docs)\n",
    "    \n",
    "    return padded_docs"
   ]
  },
  {
   "cell_type": "code",
   "execution_count": 25,
   "metadata": {},
   "outputs": [],
   "source": [
    "padded_docs_h = encodeDoc(train_data['Headline'],7)\n",
    "padded_docs_b = encodeDoc(train_data['articleBody'], 15)\n",
    "padded_test_docs_h = encodeDoc(test_data['Headline'],7)\n",
    "padded_test_docs_b = encodeDoc(test_data['articleBody'], 15)\n"
   ]
  },
  {
   "cell_type": "code",
   "execution_count": 30,
   "metadata": {},
   "outputs": [
    {
     "name": "stdout",
     "output_type": "stream",
     "text": [
      "WARNING:tensorflow:From C:\\Users\\vwang80\\Anaconda3\\lib\\site-packages\\tensorflow\\python\\ops\\resource_variable_ops.py:435: colocate_with (from tensorflow.python.framework.ops) is deprecated and will be removed in a future version.\n",
      "Instructions for updating:\n",
      "Colocations handled automatically by placer.\n"
     ]
    }
   ],
   "source": [
    "# Note that we can name any layer by passing it a \"name\" argument.\n",
    "headline_input = Input(shape=(7,), dtype='int32', name='headline_input')\n",
    "\n",
    "# This embedding layer will encode the input sequence\n",
    "# into a sequence of dense 512-dimensional vectors.\n",
    "emb_h = Embedding(vocab_size, 50, weights=[embedding_matrix_ex], input_length=7, trainable=False)(headline_input)\n",
    "\n",
    "# A LSTM will transform the vector sequence into a single vector,\n",
    "# containing information about the entire sequence\n",
    "lstm_out_h = LSTM(32)(emb_h)\n",
    "headline_out = Dense(1, activation='sigmoid', name='headline_out')(lstm_out_h)"
   ]
  },
  {
   "cell_type": "code",
   "execution_count": 31,
   "metadata": {},
   "outputs": [],
   "source": [
    "# Note that we can name any layer by passing it a \"name\" argument.\n",
    "body_input = Input(shape=(15,), dtype='int32', name='body_input')\n",
    "\n",
    "# This embedding layer will encode the input sequence\n",
    "# into a sequence of dense 512-dimensional vectors.\n",
    "emb_b = Embedding(vocab_size, 50, weights=[embedding_matrix_ex], input_length=15, trainable=False)(body_input)\n",
    "\n",
    "# A LSTM will transform the vector sequence into a single vector,\n",
    "# containing information about the entire sequence\n",
    "lstm_out_b = LSTM(32)(emb_b)\n",
    "body_out = Dense(1, activation='sigmoid', name='body_out')(lstm_out_b)"
   ]
  },
  {
   "cell_type": "code",
   "execution_count": 32,
   "metadata": {},
   "outputs": [
    {
     "name": "stdout",
     "output_type": "stream",
     "text": [
      "WARNING:tensorflow:From C:\\Users\\vwang80\\Anaconda3\\lib\\site-packages\\tensorflow\\python\\keras\\layers\\core.py:143: calling dropout (from tensorflow.python.ops.nn_ops) with keep_prob is deprecated and will be removed in a future version.\n",
      "Instructions for updating:\n",
      "Please use `rate` instead of `keep_prob`. Rate should be set to `rate = 1 - keep_prob`.\n"
     ]
    }
   ],
   "source": [
    "#x = keras.layers.concatenate([headline_out, body_out])\n",
    "conc = tf.keras.layers.concatenate([headline_out, body_out])\n",
    "\n",
    "# We stack a deep densely-connected network on top\n",
    "x = Dense(64, activation='relu')(conc)\n",
    "x = BatchNormalization(axis=-1, momentum=0.99, epsilon=0.001, center=True, scale=True, beta_initializer='zeros', gamma_initializer='ones', moving_mean_initializer='zeros', moving_variance_initializer='ones', beta_regularizer=None, gamma_regularizer=None, beta_constraint=None, gamma_constraint=None)(x)\n",
    "x = Dropout(0.5)(x)\n",
    "x = Dense(64, activation='relu')(x)\n",
    "x = Dropout(0.5)(x)\n",
    "x = Dense(64, activation='relu')(x)\n",
    "\n",
    "# And finally we add the main logistic regression layer\n",
    "main_output = Dense(1, activation='sigmoid', name='main_output')(x)"
   ]
  },
  {
   "cell_type": "code",
   "execution_count": 33,
   "metadata": {},
   "outputs": [],
   "source": [
    "model5 = Model(inputs=[headline_input, body_input], outputs=[main_output, headline_out, body_out ])"
   ]
  },
  {
   "cell_type": "code",
   "execution_count": 34,
   "metadata": {},
   "outputs": [],
   "source": [
    "model5.compile(optimizer='adam', loss='binary_crossentropy',metrics=['accuracy'])"
   ]
  },
  {
   "cell_type": "code",
   "execution_count": 35,
   "metadata": {},
   "outputs": [
    {
     "name": "stdout",
     "output_type": "stream",
     "text": [
      "Train on 39177 samples, validate on 9795 samples\n",
      "WARNING:tensorflow:From C:\\Users\\vwang80\\Anaconda3\\lib\\site-packages\\tensorflow\\python\\ops\\math_ops.py:3066: to_int32 (from tensorflow.python.ops.math_ops) is deprecated and will be removed in a future version.\n",
      "Instructions for updating:\n",
      "Use tf.cast instead.\n",
      "Epoch 1/50\n",
      "39177/39177 [==============================] - 52s 1ms/sample - loss: 0.8002 - main_output_loss: 0.2704 - headline_out_loss: 0.2639 - body_out_loss: 0.2659 - main_output_acc: 0.9247 - headline_out_acc: 0.9227 - body_out_acc: 0.9259 - val_loss: 0.7388 - val_main_output_loss: 0.2401 - val_headline_out_loss: 0.2451 - val_body_out_loss: 0.2537 - val_main_output_acc: 0.9283 - val_headline_out_acc: 0.9283 - val_body_out_acc: 0.9283\n",
      "Epoch 2/50\n",
      "39177/39177 [==============================] - 53s 1ms/sample - loss: 0.7383 - main_output_loss: 0.2402 - headline_out_loss: 0.2453 - body_out_loss: 0.2528 - main_output_acc: 0.9263 - headline_out_acc: 0.9263 - body_out_acc: 0.9263 - val_loss: 0.7197 - val_main_output_loss: 0.2349 - val_headline_out_loss: 0.2402 - val_body_out_loss: 0.2445 - val_main_output_acc: 0.9283 - val_headline_out_acc: 0.9283 - val_body_out_acc: 0.9283\n",
      "Epoch 3/50\n",
      "39177/39177 [==============================] - 55s 1ms/sample - loss: 0.6952 - main_output_loss: 0.2198 - headline_out_loss: 0.2380 - body_out_loss: 0.2373 - main_output_acc: 0.9266 - headline_out_acc: 0.9263 - body_out_acc: 0.9263 - val_loss: 0.6909 - val_main_output_loss: 0.2252 - val_headline_out_loss: 0.2366 - val_body_out_loss: 0.2291 - val_main_output_acc: 0.9267 - val_headline_out_acc: 0.9283 - val_body_out_acc: 0.9284\n",
      "Epoch 4/50\n",
      "39177/39177 [==============================] - 60s 2ms/sample - loss: 0.6523 - main_output_loss: 0.2001 - headline_out_loss: 0.2313 - body_out_loss: 0.2210 - main_output_acc: 0.9288 - headline_out_acc: 0.9263 - body_out_acc: 0.9268 - val_loss: 0.6387 - val_main_output_loss: 0.1944 - val_headline_out_loss: 0.2273 - val_body_out_loss: 0.2170 - val_main_output_acc: 0.9302 - val_headline_out_acc: 0.9283 - val_body_out_acc: 0.9290\n",
      "Epoch 5/50\n",
      "39177/39177 [==============================] - 59s 2ms/sample - loss: 0.6178 - main_output_loss: 0.1835 - headline_out_loss: 0.2264 - body_out_loss: 0.2078 - main_output_acc: 0.9333 - headline_out_acc: 0.9263 - body_out_acc: 0.9277 - val_loss: 0.6223 - val_main_output_loss: 0.1868 - val_headline_out_loss: 0.2257 - val_body_out_loss: 0.2098 - val_main_output_acc: 0.9339 - val_headline_out_acc: 0.9283 - val_body_out_acc: 0.9297\n",
      "Epoch 6/50\n",
      "39177/39177 [==============================] - 59s 1ms/sample - loss: 0.5962 - main_output_loss: 0.1744 - headline_out_loss: 0.2229 - body_out_loss: 0.1989 - main_output_acc: 0.9361 - headline_out_acc: 0.9263 - body_out_acc: 0.9294 - val_loss: 0.6149 - val_main_output_loss: 0.1846 - val_headline_out_loss: 0.2259 - val_body_out_loss: 0.2043 - val_main_output_acc: 0.9283 - val_headline_out_acc: 0.9283 - val_body_out_acc: 0.9332\n",
      "Epoch 7/50\n",
      "39177/39177 [==============================] - 59s 1ms/sample - loss: 0.5817 - main_output_loss: 0.1669 - headline_out_loss: 0.2205 - body_out_loss: 0.1943 - main_output_acc: 0.9388 - headline_out_acc: 0.9264 - body_out_acc: 0.9312 - val_loss: 0.5952 - val_main_output_loss: 0.1729 - val_headline_out_loss: 0.2215 - val_body_out_loss: 0.2008 - val_main_output_acc: 0.9329 - val_headline_out_acc: 0.9280 - val_body_out_acc: 0.9327\n",
      "Epoch 8/50\n",
      "39177/39177 [==============================] - 59s 1ms/sample - loss: 0.5686 - main_output_loss: 0.1605 - headline_out_loss: 0.2181 - body_out_loss: 0.1901 - main_output_acc: 0.9423 - headline_out_acc: 0.9263 - body_out_acc: 0.9316 - val_loss: 0.5897 - val_main_output_loss: 0.1706 - val_headline_out_loss: 0.2199 - val_body_out_loss: 0.1991 - val_main_output_acc: 0.9337 - val_headline_out_acc: 0.9280 - val_body_out_acc: 0.9328\n",
      "Epoch 9/50\n",
      "39177/39177 [==============================] - 59s 1ms/sample - loss: 0.5577 - main_output_loss: 0.1541 - headline_out_loss: 0.2168 - body_out_loss: 0.1868 - main_output_acc: 0.9429 - headline_out_acc: 0.9264 - body_out_acc: 0.9330 - val_loss: 0.5828 - val_main_output_loss: 0.1671 - val_headline_out_loss: 0.2191 - val_body_out_loss: 0.1967 - val_main_output_acc: 0.9375 - val_headline_out_acc: 0.9280 - val_body_out_acc: 0.9334\n",
      "Epoch 10/50\n",
      "39177/39177 [==============================] - 59s 1ms/sample - loss: 0.5509 - main_output_loss: 0.1510 - headline_out_loss: 0.2152 - body_out_loss: 0.1847 - main_output_acc: 0.9440 - headline_out_acc: 0.9264 - body_out_acc: 0.9341 - val_loss: 0.5852 - val_main_output_loss: 0.1671 - val_headline_out_loss: 0.2177 - val_body_out_loss: 0.2005 - val_main_output_acc: 0.9404 - val_headline_out_acc: 0.9280 - val_body_out_acc: 0.9339\n",
      "Epoch 11/50\n",
      "39177/39177 [==============================] - 59s 2ms/sample - loss: 0.5433 - main_output_loss: 0.1471 - headline_out_loss: 0.2134 - body_out_loss: 0.1827 - main_output_acc: 0.9452 - headline_out_acc: 0.9263 - body_out_acc: 0.9343 - val_loss: 0.5728 - val_main_output_loss: 0.1625 - val_headline_out_loss: 0.2178 - val_body_out_loss: 0.1925 - val_main_output_acc: 0.9429 - val_headline_out_acc: 0.9280 - val_body_out_acc: 0.9337\n",
      "Epoch 12/50\n",
      "39177/39177 [==============================] - 59s 2ms/sample - loss: 0.5364 - main_output_loss: 0.1435 - headline_out_loss: 0.2125 - body_out_loss: 0.1803 - main_output_acc: 0.9461 - headline_out_acc: 0.9263 - body_out_acc: 0.9352 - val_loss: 0.5744 - val_main_output_loss: 0.1635 - val_headline_out_loss: 0.2172 - val_body_out_loss: 0.1938 - val_main_output_acc: 0.9365 - val_headline_out_acc: 0.9280 - val_body_out_acc: 0.9343\n",
      "Epoch 13/50\n",
      "39177/39177 [==============================] - 59s 2ms/sample - loss: 0.5324 - main_output_loss: 0.1418 - headline_out_loss: 0.2117 - body_out_loss: 0.1789 - main_output_acc: 0.9453 - headline_out_acc: 0.9263 - body_out_acc: 0.9351 - val_loss: 0.5754 - val_main_output_loss: 0.1627 - val_headline_out_loss: 0.2191 - val_body_out_loss: 0.1937 - val_main_output_acc: 0.9432 - val_headline_out_acc: 0.9281 - val_body_out_acc: 0.9342\n",
      "Epoch 14/50\n",
      "39177/39177 [==============================] - 59s 2ms/sample - loss: 0.5297 - main_output_loss: 0.1402 - headline_out_loss: 0.2114 - body_out_loss: 0.1781 - main_output_acc: 0.9475 - headline_out_acc: 0.9263 - body_out_acc: 0.9362 - val_loss: 0.5634 - val_main_output_loss: 0.1566 - val_headline_out_loss: 0.2165 - val_body_out_loss: 0.1903 - val_main_output_acc: 0.9399 - val_headline_out_acc: 0.9280 - val_body_out_acc: 0.9355\n",
      "Epoch 15/50\n",
      "39177/39177 [==============================] - 59s 2ms/sample - loss: 0.5253 - main_output_loss: 0.1379 - headline_out_loss: 0.2105 - body_out_loss: 0.1769 - main_output_acc: 0.9482 - headline_out_acc: 0.9262 - body_out_acc: 0.9353 - val_loss: 0.5677 - val_main_output_loss: 0.1586 - val_headline_out_loss: 0.2189 - val_body_out_loss: 0.1902 - val_main_output_acc: 0.9414 - val_headline_out_acc: 0.9276 - val_body_out_acc: 0.9358\n",
      "Epoch 16/50\n",
      "39177/39177 [==============================] - 59s 2ms/sample - loss: 0.5213 - main_output_loss: 0.1360 - headline_out_loss: 0.2094 - body_out_loss: 0.1758 - main_output_acc: 0.9488 - headline_out_acc: 0.9263 - body_out_acc: 0.9362 - val_loss: 0.5711 - val_main_output_loss: 0.1606 - val_headline_out_loss: 0.2205 - val_body_out_loss: 0.1901 - val_main_output_acc: 0.9452 - val_headline_out_acc: 0.9284 - val_body_out_acc: 0.9346\n",
      "Epoch 17/50\n",
      "39177/39177 [==============================] - 59s 2ms/sample - loss: 0.5201 - main_output_loss: 0.1355 - headline_out_loss: 0.2100 - body_out_loss: 0.1747 - main_output_acc: 0.9480 - headline_out_acc: 0.9264 - body_out_acc: 0.9363 - val_loss: 0.5621 - val_main_output_loss: 0.1559 - val_headline_out_loss: 0.2180 - val_body_out_loss: 0.1881 - val_main_output_acc: 0.9416 - val_headline_out_acc: 0.9280 - val_body_out_acc: 0.9345\n",
      "Epoch 18/50\n",
      "39177/39177 [==============================] - 59s 2ms/sample - loss: 0.5154 - main_output_loss: 0.1327 - headline_out_loss: 0.2089 - body_out_loss: 0.1739 - main_output_acc: 0.9488 - headline_out_acc: 0.9264 - body_out_acc: 0.9363 - val_loss: 0.5675 - val_main_output_loss: 0.1549 - val_headline_out_loss: 0.2237 - val_body_out_loss: 0.1890 - val_main_output_acc: 0.9457 - val_headline_out_acc: 0.9273 - val_body_out_acc: 0.9353\n"
     ]
    },
    {
     "name": "stdout",
     "output_type": "stream",
     "text": [
      "Epoch 19/50\n",
      "39177/39177 [==============================] - 59s 2ms/sample - loss: 0.5160 - main_output_loss: 0.1343 - headline_out_loss: 0.2088 - body_out_loss: 0.1729 - main_output_acc: 0.9483 - headline_out_acc: 0.9262 - body_out_acc: 0.9365 - val_loss: 0.5588 - val_main_output_loss: 0.1535 - val_headline_out_loss: 0.2167 - val_body_out_loss: 0.1887 - val_main_output_acc: 0.9430 - val_headline_out_acc: 0.9280 - val_body_out_acc: 0.9338\n",
      "Epoch 20/50\n",
      "39177/39177 [==============================] - 59s 1ms/sample - loss: 0.5129 - main_output_loss: 0.1321 - headline_out_loss: 0.2082 - body_out_loss: 0.1726 - main_output_acc: 0.9483 - headline_out_acc: 0.9263 - body_out_acc: 0.9367 - val_loss: 0.5557 - val_main_output_loss: 0.1528 - val_headline_out_loss: 0.2169 - val_body_out_loss: 0.1859 - val_main_output_acc: 0.9435 - val_headline_out_acc: 0.9280 - val_body_out_acc: 0.9358\n",
      "Epoch 21/50\n",
      "39177/39177 [==============================] - 58s 1ms/sample - loss: 0.5109 - main_output_loss: 0.1312 - headline_out_loss: 0.2080 - body_out_loss: 0.1718 - main_output_acc: 0.9505 - headline_out_acc: 0.9264 - body_out_acc: 0.9375 - val_loss: 0.5667 - val_main_output_loss: 0.1605 - val_headline_out_loss: 0.2178 - val_body_out_loss: 0.1884 - val_main_output_acc: 0.9398 - val_headline_out_acc: 0.9277 - val_body_out_acc: 0.9350\n",
      "Epoch 22/50\n",
      "39177/39177 [==============================] - 59s 1ms/sample - loss: 0.5069 - main_output_loss: 0.1291 - headline_out_loss: 0.2072 - body_out_loss: 0.1706 - main_output_acc: 0.9503 - headline_out_acc: 0.9264 - body_out_acc: 0.9374 - val_loss: 0.5742 - val_main_output_loss: 0.1693 - val_headline_out_loss: 0.2174 - val_body_out_loss: 0.1876 - val_main_output_acc: 0.9391 - val_headline_out_acc: 0.9280 - val_body_out_acc: 0.9346\n",
      "Epoch 23/50\n",
      "39177/39177 [==============================] - 58s 1ms/sample - loss: 0.5088 - main_output_loss: 0.1302 - headline_out_loss: 0.2069 - body_out_loss: 0.1718 - main_output_acc: 0.9487 - headline_out_acc: 0.9261 - body_out_acc: 0.9374 - val_loss: 0.5568 - val_main_output_loss: 0.1530 - val_headline_out_loss: 0.2174 - val_body_out_loss: 0.1864 - val_main_output_acc: 0.9413 - val_headline_out_acc: 0.9277 - val_body_out_acc: 0.9352\n",
      "Epoch 24/50\n",
      "39177/39177 [==============================] - 58s 1ms/sample - loss: 0.5056 - main_output_loss: 0.1279 - headline_out_loss: 0.2068 - body_out_loss: 0.1709 - main_output_acc: 0.9501 - headline_out_acc: 0.9262 - body_out_acc: 0.9382 - val_loss: 0.5643 - val_main_output_loss: 0.1589 - val_headline_out_loss: 0.2178 - val_body_out_loss: 0.1877 - val_main_output_acc: 0.9453 - val_headline_out_acc: 0.9279 - val_body_out_acc: 0.9358\n",
      "Epoch 25/50\n",
      "39177/39177 [==============================] - 59s 1ms/sample - loss: 0.5039 - main_output_loss: 0.1277 - headline_out_loss: 0.2061 - body_out_loss: 0.1701 - main_output_acc: 0.9493 - headline_out_acc: 0.9263 - body_out_acc: 0.9375 - val_loss: 0.5687 - val_main_output_loss: 0.1611 - val_headline_out_loss: 0.2181 - val_body_out_loss: 0.1895 - val_main_output_acc: 0.9426 - val_headline_out_acc: 0.9280 - val_body_out_acc: 0.9351\n",
      "Epoch 26/50\n",
      "39177/39177 [==============================] - 59s 1ms/sample - loss: 0.5042 - main_output_loss: 0.1278 - headline_out_loss: 0.2065 - body_out_loss: 0.1700 - main_output_acc: 0.9506 - headline_out_acc: 0.9263 - body_out_acc: 0.9373 - val_loss: 0.5629 - val_main_output_loss: 0.1540 - val_headline_out_loss: 0.2207 - val_body_out_loss: 0.1882 - val_main_output_acc: 0.9459 - val_headline_out_acc: 0.9277 - val_body_out_acc: 0.9344\n",
      "Epoch 27/50\n",
      "39177/39177 [==============================] - 59s 1ms/sample - loss: 0.5034 - main_output_loss: 0.1274 - headline_out_loss: 0.2059 - body_out_loss: 0.1700 - main_output_acc: 0.9502 - headline_out_acc: 0.9262 - body_out_acc: 0.9377 - val_loss: 0.5601 - val_main_output_loss: 0.1553 - val_headline_out_loss: 0.2174 - val_body_out_loss: 0.1873 - val_main_output_acc: 0.9419 - val_headline_out_acc: 0.9277 - val_body_out_acc: 0.9344\n",
      "Epoch 28/50\n",
      "39177/39177 [==============================] - 59s 1ms/sample - loss: 0.5004 - main_output_loss: 0.1257 - headline_out_loss: 0.2056 - body_out_loss: 0.1691 - main_output_acc: 0.9500 - headline_out_acc: 0.9262 - body_out_acc: 0.9377 - val_loss: 0.5619 - val_main_output_loss: 0.1589 - val_headline_out_loss: 0.2171 - val_body_out_loss: 0.1858 - val_main_output_acc: 0.9427 - val_headline_out_acc: 0.9275 - val_body_out_acc: 0.9352\n",
      "Epoch 29/50\n",
      "39177/39177 [==============================] - 59s 1ms/sample - loss: 0.4989 - main_output_loss: 0.1242 - headline_out_loss: 0.2058 - body_out_loss: 0.1690 - main_output_acc: 0.9507 - headline_out_acc: 0.9263 - body_out_acc: 0.9380 - val_loss: 0.5658 - val_main_output_loss: 0.1610 - val_headline_out_loss: 0.2179 - val_body_out_loss: 0.1868 - val_main_output_acc: 0.9442 - val_headline_out_acc: 0.9281 - val_body_out_acc: 0.9337\n",
      "Epoch 30/50\n",
      "39177/39177 [==============================] - 58s 1ms/sample - loss: 0.4999 - main_output_loss: 0.1252 - headline_out_loss: 0.2058 - body_out_loss: 0.1689 - main_output_acc: 0.9505 - headline_out_acc: 0.9261 - body_out_acc: 0.9381 - val_loss: 0.5746 - val_main_output_loss: 0.1686 - val_headline_out_loss: 0.2189 - val_body_out_loss: 0.1872 - val_main_output_acc: 0.9435 - val_headline_out_acc: 0.9281 - val_body_out_acc: 0.9351\n",
      "Epoch 31/50\n",
      "39177/39177 [==============================] - 59s 2ms/sample - loss: 0.4987 - main_output_loss: 0.1249 - headline_out_loss: 0.2053 - body_out_loss: 0.1685 - main_output_acc: 0.9512 - headline_out_acc: 0.9263 - body_out_acc: 0.9383 - val_loss: 0.5617 - val_main_output_loss: 0.1549 - val_headline_out_loss: 0.2181 - val_body_out_loss: 0.1887 - val_main_output_acc: 0.9456 - val_headline_out_acc: 0.9281 - val_body_out_acc: 0.9354\n",
      "Epoch 32/50\n",
      "39177/39177 [==============================] - 59s 1ms/sample - loss: 0.4972 - main_output_loss: 0.1242 - headline_out_loss: 0.2050 - body_out_loss: 0.1679 - main_output_acc: 0.9508 - headline_out_acc: 0.9263 - body_out_acc: 0.9385 - val_loss: 0.5647 - val_main_output_loss: 0.1596 - val_headline_out_loss: 0.2185 - val_body_out_loss: 0.1865 - val_main_output_acc: 0.9438 - val_headline_out_acc: 0.9280 - val_body_out_acc: 0.9360\n",
      "Epoch 33/50\n",
      "39177/39177 [==============================] - 59s 1ms/sample - loss: 0.4963 - main_output_loss: 0.1234 - headline_out_loss: 0.2050 - body_out_loss: 0.1679 - main_output_acc: 0.9514 - headline_out_acc: 0.9262 - body_out_acc: 0.9384 - val_loss: 0.5601 - val_main_output_loss: 0.1540 - val_headline_out_loss: 0.2189 - val_body_out_loss: 0.1872 - val_main_output_acc: 0.9436 - val_headline_out_acc: 0.9277 - val_body_out_acc: 0.9350\n",
      "Epoch 34/50\n",
      "39177/39177 [==============================] - 59s 2ms/sample - loss: 0.4959 - main_output_loss: 0.1229 - headline_out_loss: 0.2051 - body_out_loss: 0.1679 - main_output_acc: 0.9516 - headline_out_acc: 0.9261 - body_out_acc: 0.9383 - val_loss: 0.5549 - val_main_output_loss: 0.1513 - val_headline_out_loss: 0.2181 - val_body_out_loss: 0.1855 - val_main_output_acc: 0.9448 - val_headline_out_acc: 0.9280 - val_body_out_acc: 0.9343\n",
      "Epoch 35/50\n",
      "39177/39177 [==============================] - 58s 1ms/sample - loss: 0.4953 - main_output_loss: 0.1234 - headline_out_loss: 0.2046 - body_out_loss: 0.1674 - main_output_acc: 0.9506 - headline_out_acc: 0.9263 - body_out_acc: 0.9386 - val_loss: 0.5663 - val_main_output_loss: 0.1619 - val_headline_out_loss: 0.2184 - val_body_out_loss: 0.1860 - val_main_output_acc: 0.9450 - val_headline_out_acc: 0.9280 - val_body_out_acc: 0.9351\n",
      "Epoch 36/50\n",
      "39177/39177 [==============================] - 59s 2ms/sample - loss: 0.4953 - main_output_loss: 0.1234 - headline_out_loss: 0.2044 - body_out_loss: 0.1674 - main_output_acc: 0.9510 - headline_out_acc: 0.9262 - body_out_acc: 0.9377 - val_loss: 0.5621 - val_main_output_loss: 0.1567 - val_headline_out_loss: 0.2181 - val_body_out_loss: 0.1873 - val_main_output_acc: 0.9426 - val_headline_out_acc: 0.9281 - val_body_out_acc: 0.9348\n",
      "Epoch 37/50\n"
     ]
    },
    {
     "name": "stdout",
     "output_type": "stream",
     "text": [
      "39177/39177 [==============================] - 58s 1ms/sample - loss: 0.4950 - main_output_loss: 0.1232 - headline_out_loss: 0.2044 - body_out_loss: 0.1673 - main_output_acc: 0.9513 - headline_out_acc: 0.9262 - body_out_acc: 0.9379 - val_loss: 0.5619 - val_main_output_loss: 0.1560 - val_headline_out_loss: 0.2189 - val_body_out_loss: 0.1869 - val_main_output_acc: 0.9466 - val_headline_out_acc: 0.9277 - val_body_out_acc: 0.9358\n",
      "Epoch 38/50\n",
      "39177/39177 [==============================] - 58s 1ms/sample - loss: 0.4941 - main_output_loss: 0.1226 - headline_out_loss: 0.2046 - body_out_loss: 0.1670 - main_output_acc: 0.9517 - headline_out_acc: 0.9263 - body_out_acc: 0.9383 - val_loss: 0.5536 - val_main_output_loss: 0.1497 - val_headline_out_loss: 0.2179 - val_body_out_loss: 0.1860 - val_main_output_acc: 0.9461 - val_headline_out_acc: 0.9280 - val_body_out_acc: 0.9357\n",
      "Epoch 39/50\n",
      "39177/39177 [==============================] - 58s 1ms/sample - loss: 0.4924 - main_output_loss: 0.1221 - headline_out_loss: 0.2038 - body_out_loss: 0.1665 - main_output_acc: 0.9515 - headline_out_acc: 0.9263 - body_out_acc: 0.9384 - val_loss: 0.5626 - val_main_output_loss: 0.1556 - val_headline_out_loss: 0.2189 - val_body_out_loss: 0.1881 - val_main_output_acc: 0.9462 - val_headline_out_acc: 0.9280 - val_body_out_acc: 0.9358\n",
      "Epoch 40/50\n",
      "39177/39177 [==============================] - 58s 1ms/sample - loss: 0.4928 - main_output_loss: 0.1218 - headline_out_loss: 0.2042 - body_out_loss: 0.1669 - main_output_acc: 0.9519 - headline_out_acc: 0.9261 - body_out_acc: 0.9389 - val_loss: 0.5578 - val_main_output_loss: 0.1544 - val_headline_out_loss: 0.2177 - val_body_out_loss: 0.1857 - val_main_output_acc: 0.9468 - val_headline_out_acc: 0.9277 - val_body_out_acc: 0.9359\n",
      "Epoch 41/50\n",
      "39177/39177 [==============================] - 58s 1ms/sample - loss: 0.4900 - main_output_loss: 0.1199 - headline_out_loss: 0.2040 - body_out_loss: 0.1661 - main_output_acc: 0.9515 - headline_out_acc: 0.9262 - body_out_acc: 0.9393 - val_loss: 0.5602 - val_main_output_loss: 0.1560 - val_headline_out_loss: 0.2191 - val_body_out_loss: 0.1851 - val_main_output_acc: 0.9459 - val_headline_out_acc: 0.9276 - val_body_out_acc: 0.9363\n",
      "Epoch 42/50\n",
      "39177/39177 [==============================] - 58s 1ms/sample - loss: 0.4913 - main_output_loss: 0.1211 - headline_out_loss: 0.2040 - body_out_loss: 0.1661 - main_output_acc: 0.9523 - headline_out_acc: 0.9261 - body_out_acc: 0.9391 - val_loss: 0.5672 - val_main_output_loss: 0.1614 - val_headline_out_loss: 0.2192 - val_body_out_loss: 0.1866 - val_main_output_acc: 0.9437 - val_headline_out_acc: 0.9281 - val_body_out_acc: 0.9354\n",
      "Epoch 43/50\n",
      "39177/39177 [==============================] - 58s 1ms/sample - loss: 0.4922 - main_output_loss: 0.1217 - headline_out_loss: 0.2040 - body_out_loss: 0.1665 - main_output_acc: 0.9512 - headline_out_acc: 0.9263 - body_out_acc: 0.9389 - val_loss: 0.5717 - val_main_output_loss: 0.1667 - val_headline_out_loss: 0.2175 - val_body_out_loss: 0.1875 - val_main_output_acc: 0.9440 - val_headline_out_acc: 0.9283 - val_body_out_acc: 0.9356\n",
      "Epoch 44/50\n",
      "39177/39177 [==============================] - 58s 1ms/sample - loss: 0.4908 - main_output_loss: 0.1215 - headline_out_loss: 0.2036 - body_out_loss: 0.1657 - main_output_acc: 0.9512 - headline_out_acc: 0.9262 - body_out_acc: 0.9392 - val_loss: 0.5597 - val_main_output_loss: 0.1531 - val_headline_out_loss: 0.2177 - val_body_out_loss: 0.1889 - val_main_output_acc: 0.9476 - val_headline_out_acc: 0.9283 - val_body_out_acc: 0.9357\n",
      "Epoch 45/50\n",
      "39177/39177 [==============================] - 58s 1ms/sample - loss: 0.4896 - main_output_loss: 0.1201 - headline_out_loss: 0.2034 - body_out_loss: 0.1661 - main_output_acc: 0.9518 - headline_out_acc: 0.9260 - body_out_acc: 0.9388 - val_loss: 0.5606 - val_main_output_loss: 0.1544 - val_headline_out_loss: 0.2188 - val_body_out_loss: 0.1874 - val_main_output_acc: 0.9467 - val_headline_out_acc: 0.9279 - val_body_out_acc: 0.9357\n",
      "Epoch 46/50\n",
      "39177/39177 [==============================] - 58s 1ms/sample - loss: 0.4898 - main_output_loss: 0.1208 - headline_out_loss: 0.2034 - body_out_loss: 0.1656 - main_output_acc: 0.9522 - headline_out_acc: 0.9264 - body_out_acc: 0.9383 - val_loss: 0.5603 - val_main_output_loss: 0.1567 - val_headline_out_loss: 0.2190 - val_body_out_loss: 0.1846 - val_main_output_acc: 0.9459 - val_headline_out_acc: 0.9277 - val_body_out_acc: 0.9360\n",
      "Epoch 47/50\n",
      "39177/39177 [==============================] - 58s 1ms/sample - loss: 0.4891 - main_output_loss: 0.1200 - headline_out_loss: 0.2033 - body_out_loss: 0.1658 - main_output_acc: 0.9510 - headline_out_acc: 0.9263 - body_out_acc: 0.9389 - val_loss: 0.5683 - val_main_output_loss: 0.1619 - val_headline_out_loss: 0.2190 - val_body_out_loss: 0.1873 - val_main_output_acc: 0.9480 - val_headline_out_acc: 0.9279 - val_body_out_acc: 0.9358\n",
      "Epoch 48/50\n",
      "39177/39177 [==============================] - 58s 1ms/sample - loss: 0.4870 - main_output_loss: 0.1186 - headline_out_loss: 0.2028 - body_out_loss: 0.1655 - main_output_acc: 0.9523 - headline_out_acc: 0.9261 - body_out_acc: 0.9395 - val_loss: 0.5605 - val_main_output_loss: 0.1559 - val_headline_out_loss: 0.2192 - val_body_out_loss: 0.1854 - val_main_output_acc: 0.9461 - val_headline_out_acc: 0.9280 - val_body_out_acc: 0.9360\n",
      "Epoch 49/50\n",
      "39177/39177 [==============================] - 59s 2ms/sample - loss: 0.4875 - main_output_loss: 0.1191 - headline_out_loss: 0.2031 - body_out_loss: 0.1653 - main_output_acc: 0.9520 - headline_out_acc: 0.9262 - body_out_acc: 0.9391 - val_loss: 0.5578 - val_main_output_loss: 0.1553 - val_headline_out_loss: 0.2176 - val_body_out_loss: 0.1850 - val_main_output_acc: 0.9460 - val_headline_out_acc: 0.9279 - val_body_out_acc: 0.9356\n",
      "Epoch 50/50\n",
      "39177/39177 [==============================] - 58s 1ms/sample - loss: 0.4885 - main_output_loss: 0.1192 - headline_out_loss: 0.2036 - body_out_loss: 0.1656 - main_output_acc: 0.9520 - headline_out_acc: 0.9264 - body_out_acc: 0.9394 - val_loss: 0.5584 - val_main_output_loss: 0.1536 - val_headline_out_loss: 0.2183 - val_body_out_loss: 0.1866 - val_main_output_acc: 0.9478 - val_headline_out_acc: 0.9280 - val_body_out_acc: 0.9356\n"
     ]
    }
   ],
   "source": [
    "# fit the model\n",
    "batch_size = 30\n",
    "history = model5.fit([padded_docs_h, padded_docs_b], [train_labels,train_labels,train_labels], batch_size=batch_size, epochs=50, validation_split= 0.2)"
   ]
  },
  {
   "cell_type": "code",
   "execution_count": 43,
   "metadata": {},
   "outputs": [
    {
     "name": "stdout",
     "output_type": "stream",
     "text": [
      "1000/1000 [==============================] - 0s 485us/sample - loss: 0.6377 - main_output_loss: 0.1753 - headline_out_loss: 0.2499 - body_out_loss: 0.2125 - main_output_acc: 0.9360 - headline_out_acc: 0.9080 - body_out_acc: 0.9270\n",
      "Loss: 0.637746\n",
      "Combined Loss: 0.175333\n",
      "Headline Loss: 0.249898\n",
      "Body Loss: 0.212515\n",
      "Accuracy: 0.936000\n",
      "Headline Accuracy: 0.908000\n",
      "Body Accuracy: 0.927000\n"
     ]
    }
   ],
   "source": [
    "# evaluate the model\n",
    "accuracy = model5.evaluate([padded_test_docs_h,padded_test_docs_b], [test_labels,test_labels,test_labels], verbose=1)\n",
    "print('Loss: %f' % (accuracy[0]))\n",
    "print('Combined Loss: %f' % (accuracy[1]))\n",
    "print('Headline Loss: %f' % (accuracy[2]))\n",
    "print('Body Loss: %f' % (accuracy[3]))\n",
    "print('Accuracy: %f' % (accuracy[4]))\n",
    "print('Headline Accuracy: %f' % (accuracy[5]))\n",
    "print('Body Accuracy: %f' % (accuracy[6]))"
   ]
  },
  {
   "cell_type": "code",
   "execution_count": 38,
   "metadata": {},
   "outputs": [
    {
     "name": "stdout",
     "output_type": "stream",
     "text": [
      "Best validation Accuracy: 0.9480\n",
      "Best train Accuracy: 0.9523\n"
     ]
    },
    {
     "data": {
      "image/png": "[encoded data removed]",
      "text/plain": [
       "<Figure size 1008x288 with 2 Axes>"
      ]
     },
     "metadata": {
      "needs_background": "light"
     },
     "output_type": "display_data"
    }
   ],
   "source": [
    "showResults(history)"
   ]
  },
  {
   "cell_type": "code",
   "execution_count": null,
   "metadata": {},
   "outputs": [],
   "source": []
  }
 ],
 "metadata": {
  "kernelspec": {
   "display_name": "Python 3",
   "language": "python",
   "name": "python3"
  },
  "language_info": {
   "codemirror_mode": {
    "name": "ipython",
    "version": 3
   },
   "file_extension": ".py",
   "mimetype": "text/x-python",
   "name": "python",
   "nbconvert_exporter": "python",
   "pygments_lexer": "ipython3",
   "version": "3.7.5"
  }
 },
 "nbformat": 4,
 "nbformat_minor": 2
}

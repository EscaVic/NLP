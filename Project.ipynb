{
 "cells": [
  {
   "cell_type": "code",
   "execution_count": 244,
   "metadata": {},
   "outputs": [],
   "source": [
    "# imports\n",
    "import pandas as pd\n",
    "\n",
    "# This tells matplotlib not to try opening a new window for each plot.\n",
    "%matplotlib inline\n",
    "\n",
    "# Import a bunch of libraries.\n",
    "import json\n",
    "import time\n",
    "import pandas as pd\n",
    "import numpy as np\n",
    "import matplotlib.pyplot as plt\n",
    "from sklearn.model_selection import GridSearchCV\n",
    "from sklearn.metrics import classification_report\n",
    "\n",
    "# cnn imports\n",
    "import tensorflow as tf\n",
    "from tensorflow import keras\n",
    "from tensorflow.keras.models import Sequential,Model\n",
    "from tensorflow.keras.layers import Dense, Dropout, Flatten\n",
    "from tensorflow.keras.layers import Conv2D, MaxPooling2D\n",
    "#from tensorflow.keras.layers.normalization import BatchNormalization\n",
    "#from tensorflow.keras.layers.advanced_activations import LeakyReLU\n",
    "\n",
    "from numpy import array\n",
    "from keras.preprocessing.text import one_hot\n",
    "from keras.preprocessing.sequence import pad_sequences\n",
    "from keras.models import Sequential\n",
    "from keras.layers import Dense\n",
    "from keras.layers import Flatten\n",
    "from keras.layers import LSTM\n",
    "from keras.layers import Dropout\n",
    "from keras.layers import TimeDistributed\n",
    "from keras.layers import Activation\n",
    "from keras.layers import Layer\n",
    "from keras.layers.embeddings import Embedding\n",
    "\n",
    "from tensorflow.keras import backend as K\n",
    "from tensorflow.keras import layers\n",
    "from tensorflow.python.keras.layers import Lambda\n",
    "from tensorflow.keras.callbacks import TensorBoard\n",
    "from tensorflow.keras.backend import sparse_categorical_crossentropy\n",
    "from tensorflow.keras.layers import Dense, TimeDistributed\n",
    "\n",
    "from sklearn.model_selection import train_test_split\n",
    "\n",
    "from datetime import datetime\n",
    "\n",
    "from sklearn.model_selection import train_test_split\n",
    "from sklearn.metrics import mean_squared_error\n",
    "\n",
    "# Set the randomizer seed so results are the same each time.\n",
    "np.random.seed(0)"
   ]
  },
  {
   "cell_type": "code",
   "execution_count": 186,
   "metadata": {},
   "outputs": [],
   "source": [
    "# Load data\n",
    "bodies_df = pd.read_csv(\"train_bodies.csv\")\n",
    "stances_df =  pd.read_csv(\"train_stances.csv\")"
   ]
  },
  {
   "cell_type": "code",
   "execution_count": 187,
   "metadata": {},
   "outputs": [
    {
     "data": {
      "text/plain": [
       "(1683, 2)"
      ]
     },
     "execution_count": 187,
     "metadata": {},
     "output_type": "execute_result"
    }
   ],
   "source": [
    "# Examine data shape\n",
    "bodies_df.shape"
   ]
  },
  {
   "cell_type": "code",
   "execution_count": 188,
   "metadata": {},
   "outputs": [
    {
     "data": {
      "text/plain": [
       "(49972, 3)"
      ]
     },
     "execution_count": 188,
     "metadata": {},
     "output_type": "execute_result"
    }
   ],
   "source": [
    "stances_df.shape"
   ]
  },
  {
   "cell_type": "code",
   "execution_count": 189,
   "metadata": {},
   "outputs": [
    {
     "data": {
      "text/html": [
       "<div>\n",
       "<style scoped>\n",
       "    .dataframe tbody tr th:only-of-type {\n",
       "        vertical-align: middle;\n",
       "    }\n",
       "\n",
       "    .dataframe tbody tr th {\n",
       "        vertical-align: top;\n",
       "    }\n",
       "\n",
       "    .dataframe thead th {\n",
       "        text-align: right;\n",
       "    }\n",
       "</style>\n",
       "<table border=\"1\" class=\"dataframe\">\n",
       "  <thead>\n",
       "    <tr style=\"text-align: right;\">\n",
       "      <th></th>\n",
       "      <th>Headline</th>\n",
       "      <th>articleBody</th>\n",
       "      <th>Stance</th>\n",
       "    </tr>\n",
       "  </thead>\n",
       "  <tbody>\n",
       "  </tbody>\n",
       "</table>\n",
       "</div>"
      ],
      "text/plain": [
       "Empty DataFrame\n",
       "Columns: [Headline, articleBody, Stance]\n",
       "Index: []"
      ]
     },
     "execution_count": 189,
     "metadata": {},
     "output_type": "execute_result"
    }
   ],
   "source": [
    "combined_df = pd.DataFrame(columns=['Headline', 'articleBody', 'Stance'])\n",
    "combined_df.head()"
   ]
  },
  {
   "cell_type": "code",
   "execution_count": 190,
   "metadata": {},
   "outputs": [],
   "source": [
    "for i in range (1250):\n",
    "    combined_df.at[i, 'Headline'] =  stances_df.at[i,'Headline']\n",
    "    #combined_df.at[i,'articleBody'] = bodies_df.at[i,'articleBody' ]\n",
    "    #combined_df.at[i,'articleBody'] = bodies_df.loc[bodies_df['Body ID'] == stances_df.at[i,'Body ID'], 'articleBody']\n",
    "    combined_df.at[i,'articleBody'] = bodies_df.loc[bodies_df['Body ID'] == stances_df.at[i,'Body ID'], ['articleBody']].iloc[0]['articleBody']\n",
    "    combined_df.at[i,'Stance'] = stances_df.at[i,'Stance']"
   ]
  },
  {
   "cell_type": "code",
   "execution_count": 191,
   "metadata": {},
   "outputs": [
    {
     "data": {
      "text/html": [
       "<div>\n",
       "<style scoped>\n",
       "    .dataframe tbody tr th:only-of-type {\n",
       "        vertical-align: middle;\n",
       "    }\n",
       "\n",
       "    .dataframe tbody tr th {\n",
       "        vertical-align: top;\n",
       "    }\n",
       "\n",
       "    .dataframe thead th {\n",
       "        text-align: right;\n",
       "    }\n",
       "</style>\n",
       "<table border=\"1\" class=\"dataframe\">\n",
       "  <thead>\n",
       "    <tr style=\"text-align: right;\">\n",
       "      <th></th>\n",
       "      <th>Headline</th>\n",
       "      <th>articleBody</th>\n",
       "      <th>Stance</th>\n",
       "    </tr>\n",
       "  </thead>\n",
       "  <tbody>\n",
       "    <tr>\n",
       "      <th>0</th>\n",
       "      <td>Police find mass graves with at least '15 bodi...</td>\n",
       "      <td>Danny Boyle is directing the untitled film\\n\\n...</td>\n",
       "      <td>unrelated</td>\n",
       "    </tr>\n",
       "    <tr>\n",
       "      <th>1</th>\n",
       "      <td>Hundreds of Palestinians flee floods in Gaza a...</td>\n",
       "      <td>Hundreds of Palestinians were evacuated from t...</td>\n",
       "      <td>agree</td>\n",
       "    </tr>\n",
       "    <tr>\n",
       "      <th>2</th>\n",
       "      <td>Christian Bale passes on role of Steve Jobs, a...</td>\n",
       "      <td>30-year-old Moscow resident was hospitalized w...</td>\n",
       "      <td>unrelated</td>\n",
       "    </tr>\n",
       "    <tr>\n",
       "      <th>3</th>\n",
       "      <td>HBO and Apple in Talks for $15/Month Apple TV ...</td>\n",
       "      <td>(Reuters) - A Canadian soldier was shot at the...</td>\n",
       "      <td>unrelated</td>\n",
       "    </tr>\n",
       "    <tr>\n",
       "      <th>4</th>\n",
       "      <td>Spider burrowed through tourist's stomach and ...</td>\n",
       "      <td>Fear not arachnophobes, the story of Bunbury's...</td>\n",
       "      <td>disagree</td>\n",
       "    </tr>\n",
       "  </tbody>\n",
       "</table>\n",
       "</div>"
      ],
      "text/plain": [
       "                                            Headline  \\\n",
       "0  Police find mass graves with at least '15 bodi...   \n",
       "1  Hundreds of Palestinians flee floods in Gaza a...   \n",
       "2  Christian Bale passes on role of Steve Jobs, a...   \n",
       "3  HBO and Apple in Talks for $15/Month Apple TV ...   \n",
       "4  Spider burrowed through tourist's stomach and ...   \n",
       "\n",
       "                                         articleBody     Stance  \n",
       "0  Danny Boyle is directing the untitled film\\n\\n...  unrelated  \n",
       "1  Hundreds of Palestinians were evacuated from t...      agree  \n",
       "2  30-year-old Moscow resident was hospitalized w...  unrelated  \n",
       "3  (Reuters) - A Canadian soldier was shot at the...  unrelated  \n",
       "4  Fear not arachnophobes, the story of Bunbury's...   disagree  "
      ]
     },
     "execution_count": 191,
     "metadata": {},
     "output_type": "execute_result"
    }
   ],
   "source": [
    "combined_df.head()"
   ]
  },
  {
   "cell_type": "code",
   "execution_count": 192,
   "metadata": {},
   "outputs": [],
   "source": [
    "combined_df.to_csv(\"combined_stances.csv\")"
   ]
  },
  {
   "cell_type": "code",
   "execution_count": 193,
   "metadata": {},
   "outputs": [
    {
     "data": {
      "text/plain": [
       "Index(['Headline', 'articleBody', 'Stance'], dtype='object')"
      ]
     },
     "metadata": {},
     "output_type": "display_data"
    }
   ],
   "source": [
    "# store column names for convenience\n",
    "column_names = combined_df.columns\n",
    "display(column_names)"
   ]
  },
  {
   "cell_type": "code",
   "execution_count": 194,
   "metadata": {},
   "outputs": [],
   "source": [
    "# Extract column for just labels\n",
    "labels = combined_df['Stance']"
   ]
  },
  {
   "cell_type": "code",
   "execution_count": 195,
   "metadata": {},
   "outputs": [],
   "source": [
    "# Drop columns that are strings\n",
    "all_data_processed = combined_df.drop(['Stance'], axis=1)"
   ]
  },
  {
   "cell_type": "code",
   "execution_count": 196,
   "metadata": {},
   "outputs": [],
   "source": [
    "# Set some variables to hold test, dev, and training data.\n",
    "test_data, test_labels = all_data_processed[1000:], labels[1000:]\n",
    "#dev_data, dev_labels = all_data_processed[17505:23340], labels[17505:23340]\n",
    "train_data, train_labels = all_data_processed[:1000], labels[:1000]"
   ]
  },
  {
   "cell_type": "code",
   "execution_count": 197,
   "metadata": {},
   "outputs": [],
   "source": [
    "# Used GLoVE embeddings\n",
    "embeddings_dict = {}\n",
    "with open(\"glove.6B.50d.txt\", 'r', encoding='utf-8') as f:\n",
    "    for line in f:\n",
    "        values = line.split()\n",
    "        token = values[0]\n",
    "        vector = np.asarray(values[1:], \"float32\")\n",
    "        embeddings_dict[token] = vector"
   ]
  },
  {
   "cell_type": "code",
   "execution_count": 198,
   "metadata": {},
   "outputs": [
    {
     "data": {
      "text/plain": [
       "array([ 0.02648  ,  0.33737  ,  0.065667 , -0.11609  ,  0.41651  ,\n",
       "       -0.21142  , -0.69582  ,  0.2822   , -0.36077  , -0.13822  ,\n",
       "        0.012094 ,  0.086227 , -0.84638  ,  0.057195 ,  1.1582   ,\n",
       "        0.14703  , -0.0049197, -0.24899  , -0.96014  , -0.3038   ,\n",
       "        0.23972  ,  0.21058  ,  0.40608  ,  0.17789  ,  0.55253  ,\n",
       "       -1.6357   , -0.17784  , -0.45222  ,  0.45805  ,  0.14239  ,\n",
       "        3.7087   ,  0.40289  , -0.4083   , -0.29304  ,  0.030857 ,\n",
       "       -0.15361  ,  0.10607  ,  0.63397  ,  0.12397  , -0.25349  ,\n",
       "       -0.10344  ,  0.0069768, -0.17328  ,  0.35536  , -0.46369  ,\n",
       "        0.15285  ,  0.41475  , -0.3398   , -0.23043  ,  0.19069  ],\n",
       "      dtype=float32)"
      ]
     },
     "execution_count": 198,
     "metadata": {},
     "output_type": "execute_result"
    }
   ],
   "source": [
    "embeddings_dict['time']"
   ]
  },
  {
   "cell_type": "code",
   "execution_count": 199,
   "metadata": {},
   "outputs": [],
   "source": [
    "import gensim"
   ]
  },
  {
   "cell_type": "code",
   "execution_count": 200,
   "metadata": {},
   "outputs": [],
   "source": [
    "# NLTK for NLP utils\n",
    "import nltk\n",
    "# Helper libraries.\n",
    "#from w266_common import utils, vocabulary, tf_embed_viz\n",
    "import utils, vocabulary, tf_embed_viz"
   ]
  },
  {
   "cell_type": "code",
   "execution_count": 250,
   "metadata": {},
   "outputs": [
    {
     "name": "stdout",
     "output_type": "stream",
     "text": [
      "[[2, 15], [8, 30], [45, 36], [24, 30], [29], [40], [10, 36], [46, 8], [10, 30], [38, 37, 15, 1]]\n",
      "[[ 2 15  0  0  0  0  0  0]\n",
      " [ 8 30  0  0  0  0  0  0]\n",
      " [45 36  0  0  0  0  0  0]\n",
      " [24 30  0  0  0  0  0  0]\n",
      " [29  0  0  0  0  0  0  0]\n",
      " [40  0  0  0  0  0  0  0]\n",
      " [10 36  0  0  0  0  0  0]\n",
      " [46  8  0  0  0  0  0  0]\n",
      " [10 30  0  0  0  0  0  0]\n",
      " [38 37 15  1  0  0  0  0]]\n"
     ]
    }
   ],
   "source": [
    "# define documents\n",
    "docs = ['Well done!',\n",
    "'Good work',\n",
    "'Great effort',\n",
    "'nice work',\n",
    "'Excellent!',\n",
    "'Weak',\n",
    "'Poor effort!',\n",
    "'not good',\n",
    "'poor work',\n",
    "'Could have done better.']\n",
    "# define class labels\n",
    "labels = array([1,1,1,1,1,0,0,0,0,0])\n",
    "# integer encode the documents\n",
    "vocab_size = 50\n",
    "encoded_docs = [one_hot(d, vocab_size) for d in docs]\n",
    "print(encoded_docs)\n",
    "# pad documents to a max length of 4 words\n",
    "max_length = 8\n",
    "padded_docs = pad_sequences(encoded_docs, maxlen=max_length, padding='post')\n",
    "print(padded_docs)"
   ]
  },
  {
   "cell_type": "code",
   "execution_count": 378,
   "metadata": {},
   "outputs": [],
   "source": [
    "def sents_to_ids(sentences):\n",
    "    \"\"\"\n",
    "    converting a list of strings to a list of lists of word ids\n",
    "    \"\"\"\n",
    "    \n",
    "    bad_chars = [';', ':', '!', \"*\"] \n",
    "    \n",
    "    text_ids = []\n",
    "    for sentence in sentences:\n",
    "        example = []\n",
    "        sentence = sentence.replace('\\'','')\n",
    "        sentence = sentence.replace(',','')\n",
    "        sentence = sentence.replace('$','')\n",
    "        sentence = sentence.replace('/',' ')\n",
    "        sentence = sentence.replace('','')\n",
    "        for word in sentence.split(' '):\n",
    "            #word.lower()\n",
    "            temp = word.lower()\n",
    "            #temp.replace('\\'','')\n",
    "            if temp in embeddings_dict:\n",
    "                example.append(embeddings_dict[temp])\n",
    "            #else:\n",
    "                #print(\"Missing \", temp)            \n",
    "        text_ids.append(example)\n",
    "\n",
    "    return  text_ids   "
   ]
  },
  {
   "cell_type": "code",
   "execution_count": 380,
   "metadata": {},
   "outputs": [],
   "source": [
    "blah = combined_df['Headline']"
   ]
  },
  {
   "cell_type": "code",
   "execution_count": 419,
   "metadata": {},
   "outputs": [
    {
     "data": {
      "text/plain": [
       "0       Police find mass graves with at least '15 bodi...\n",
       "1       Hundreds of Palestinians flee floods in Gaza a...\n",
       "2       Christian Bale passes on role of Steve Jobs, a...\n",
       "3       HBO and Apple in Talks for $15/Month Apple TV ...\n",
       "4       Spider burrowed through tourist's stomach and ...\n",
       "                              ...                        \n",
       "1245    Was Heart-Tugging Viral Video Of Generous Home...\n",
       "1246    Tourist wakes to find strange red trail on his...\n",
       "1247    ISIS Fighters Getting Caught Coming Across the...\n",
       "1248    Mass grave found after 40 students disappear i...\n",
       "1249    Missing Mexican students 'not found in mass gr...\n",
       "Name: Headline, Length: 1250, dtype: object"
      ]
     },
     "execution_count": 419,
     "metadata": {},
     "output_type": "execute_result"
    }
   ],
   "source": [
    "blah"
   ]
  },
  {
   "cell_type": "code",
   "execution_count": 381,
   "metadata": {},
   "outputs": [],
   "source": [
    "train_input = np.array(sents_to_ids(blah))"
   ]
  },
  {
   "cell_type": "code",
   "execution_count": 426,
   "metadata": {},
   "outputs": [
    {
     "data": {
      "text/plain": [
       "(50,)"
      ]
     },
     "execution_count": 426,
     "metadata": {},
     "output_type": "execute_result"
    }
   ],
   "source": [
    "train_input[0][17].shape"
   ]
  },
  {
   "cell_type": "code",
   "execution_count": 431,
   "metadata": {},
   "outputs": [
    {
     "data": {
      "text/plain": [
       "[array([ 0.94397  , -0.67342  ,  1.0082   , -0.44745  ,  0.8761   ,\n",
       "        -0.0081819, -1.6734   ,  1.2498   , -0.13068  , -0.40058  ,\n",
       "         0.55603  , -0.74259  , -0.059912 ,  0.49491  ,  0.89407  ,\n",
       "        -0.71861  , -0.56199  ,  0.022498 , -0.062564 ,  1.0018   ,\n",
       "        -0.052287 ,  1.6375   ,  0.84925  ,  1.0139   , -0.27091  ,\n",
       "        -1.3237   , -0.15111  , -0.82478  , -0.10847  ,  0.11021  ,\n",
       "         1.0944   , -0.67153  , -0.63257  ,  0.2961   ,  0.58242  ,\n",
       "         0.020359 , -0.75819  , -1.1431   ,  0.14229  ,  0.10008  ,\n",
       "        -0.32434  ,  0.11604  ,  1.1102   , -1.1168   ,  1.0355   ,\n",
       "        -0.99955  , -1.1571   , -0.10277  ,  0.11576  , -0.9225   ],\n",
       "       dtype=float32),\n",
       " array([-0.36647 , -0.7656  ,  0.13563 ,  0.313   ,  0.37232 , -0.87062 ,\n",
       "        -0.50308 ,  0.32128 ,  0.77395 ,  0.35854 ,  0.7704  ,  0.27343 ,\n",
       "         0.27201 ,  0.27854 ,  0.16601 , -0.3523  ,  0.081415,  0.50749 ,\n",
       "        -0.27102 ,  0.23128 ,  0.18316 ,  0.8289  , -0.15401 ,  0.11125 ,\n",
       "        -0.37837 , -1.3341  ,  0.62442 , -0.85963 , -0.95081 ,  0.96246 ,\n",
       "         1.4393  ,  0.022851, -0.73918 ,  0.47044 ,  0.62801 ,  0.53174 ,\n",
       "        -0.48399 , -1.2276  ,  0.25022 ,  0.38777 , -0.42208 ,  1.2469  ,\n",
       "        -0.010078, -0.5547  ,  0.13941 ,  0.55209 , -0.85492 ,  0.98561 ,\n",
       "         0.30822 , -1.5359  ], dtype=float32),\n",
       " array([ 0.38797  , -1.0825   ,  0.45025  , -0.23341  ,  0.086307 ,\n",
       "        -0.25721  , -0.18281  , -0.10037  , -0.50099  , -0.58361  ,\n",
       "        -0.052635 , -0.14224  ,  0.0090217, -0.38308  ,  0.18503  ,\n",
       "         0.42444  ,  0.10611  , -0.1487   ,  1.0801   ,  0.065757 ,\n",
       "         0.64552  ,  0.1908   , -0.14561  , -0.87237  , -0.35568  ,\n",
       "        -2.435    ,  0.28428  , -0.33436  , -0.56139  ,  0.91404  ,\n",
       "         4.0129   ,  0.072234 , -1.2478   , -0.36592  , -0.50236  ,\n",
       "         0.011731 , -0.27409  , -0.50842  , -0.2584   , -0.096172 ,\n",
       "        -0.67109  ,  0.40226  ,  0.27912  , -0.37317  , -0.45049  ,\n",
       "        -0.30662  , -1.6426   ,  1.1936   ,  0.65343  , -0.76293  ],\n",
       "       dtype=float32),\n",
       " array([ 0.39921 , -0.29377 ,  0.34432 ,  0.44105 ,  0.16898 ,  0.89465 ,\n",
       "        -0.27946 ,  0.24767 ,  0.37142 , -0.030335,  0.038761, -0.30629 ,\n",
       "        -0.25987 , -1.2164  ,  0.97606 ,  0.054014, -0.19193 , -0.50914 ,\n",
       "         0.080748, -0.077058, -0.085746,  0.28247 ,  0.073926, -0.46139 ,\n",
       "        -0.17484 , -2.0336  , -0.56822 , -0.3646  , -0.16478 ,  0.38851 ,\n",
       "         2.2736  , -0.89077 , -0.16804 , -0.41247 , -0.34167 , -0.55293 ,\n",
       "        -0.31184 , -0.64161 , -0.27184 , -0.38285 ,  0.23003 ,  0.059195,\n",
       "         0.5674  ,  0.59962 , -0.070552, -0.62701 , -0.84868 ,  1.0627  ,\n",
       "        -0.045607, -0.76938 ], dtype=float32),\n",
       " array([ 0.66001 , -0.43915 , -0.49045 , -0.29213 ,  0.10648 , -0.22511 ,\n",
       "        -0.30708 ,  0.48646 , -0.22146 , -0.62215 ,  0.061112, -0.61149 ,\n",
       "        -1.2028  , -0.18215 , -0.048039,  0.58513 ,  0.40125 , -0.8791  ,\n",
       "         0.6821  ,  0.62663 , -0.22597 ,  1.2622  ,  0.21051 , -0.53932 ,\n",
       "        -0.55799 ,  0.15299 ,  0.85328 ,  0.29837 ,  0.88508 ,  0.99957 ,\n",
       "         2.7412  , -0.38672 , -2.3089  ,  0.74606 ,  0.031659, -0.48125 ,\n",
       "         0.39852 , -1.8605  , -1.1971  ,  0.23938 , -0.58749 , -1.3108  ,\n",
       "        -0.4702  , -1.0959  , -0.8574  , -0.38371 , -0.21802 ,  1.6043  ,\n",
       "        -0.81693 , -0.7185  ], dtype=float32),\n",
       " array([ 0.9861   ,  0.0081402,  0.1231   ,  0.63133  ,  0.15519  ,\n",
       "         0.47905  , -0.8996   ,  0.13489  , -0.28186  ,  0.58409  ,\n",
       "        -0.16958  ,  0.48564  , -1.1777   ,  0.034756 ,  0.73776  ,\n",
       "         0.60591  ,  0.40445  , -0.1424   ,  0.13955  , -0.15309  ,\n",
       "         0.54035  ,  0.2915   , -0.39186  , -0.58381  , -0.63534  ,\n",
       "        -1.6963   ,  0.61766  ,  0.15711  ,  0.48242  , -0.071974 ,\n",
       "         3.2834   ,  0.34812  , -0.87021  ,  0.43029  ,  0.016524 ,\n",
       "        -0.77404  , -0.4283   , -0.43571  , -0.18992  , -0.92242  ,\n",
       "        -0.22549  , -0.35571  ,  0.13432  , -0.087153 , -0.47645  ,\n",
       "         0.32756  , -0.51639  ,  1.5823   , -0.66218  ,  0.18174  ],\n",
       "       dtype=float32),\n",
       " array([ 0.25616 ,  0.43694 , -0.11889 ,  0.20345 ,  0.41959 ,  0.85863 ,\n",
       "        -0.60344 , -0.31835 , -0.6718  ,  0.003984, -0.075159,  0.11043 ,\n",
       "        -0.73534 ,  0.27436 ,  0.054015, -0.23828 , -0.13767 ,  0.011573,\n",
       "        -0.46623 , -0.55233 ,  0.083317,  0.55938 ,  0.51903 , -0.27065 ,\n",
       "        -0.28211 , -1.3918  ,  0.17498 ,  0.26586 ,  0.061449, -0.273   ,\n",
       "         3.9032  ,  0.38169 , -0.056009, -0.004425,  0.24033 ,  0.30675 ,\n",
       "        -0.12638 ,  0.33436 ,  0.075485, -0.036218,  0.13691 ,  0.37762 ,\n",
       "        -0.12159 , -0.13808 ,  0.19505 ,  0.22793 , -0.17304 , -0.07573 ,\n",
       "        -0.25868 , -0.39339 ], dtype=float32),\n",
       " array([ 1.3465  , -1.1223  , -0.55828 ,  0.38932 , -0.22023 ,  0.74836 ,\n",
       "         0.02155 , -0.94281 , -0.56241 ,  0.76252 ,  0.88459 , -0.46641 ,\n",
       "         0.70354 ,  0.10083 ,  0.069853,  0.91386 ,  0.49763 ,  1.2569  ,\n",
       "        -0.070863,  0.52882 , -0.23947 , -0.11863 ,  0.51905 ,  1.2919  ,\n",
       "        -0.94949 ,  0.18575 , -0.20827 ,  0.063695, -0.97486 ,  0.45106 ,\n",
       "        -1.2383  , -0.25997 , -1.8069  ,  0.73131 ,  0.2896  , -0.59583 ,\n",
       "         0.25452 , -1.2701  , -0.15834 ,  1.2505  , -0.13739 , -0.038772,\n",
       "        -1.1529  ,  0.60855 ,  1.2159  , -0.36901 , -1.3987  ,  0.30363 ,\n",
       "         0.92212 , -0.97256 ], dtype=float32),\n",
       " array([ 0.95493  ,  0.25365  , -0.32392  ,  0.38748  ,  0.41023  ,\n",
       "         0.079946 ,  0.47525  , -0.94814  , -0.26954  ,  0.59651  ,\n",
       "         0.024798 , -0.84335  ,  0.92496  , -1.0351   , -0.075291 ,\n",
       "         1.7916   ,  1.1818   ,  0.41039  ,  0.42715  ,  1.5206   ,\n",
       "        -0.49961  , -0.19933  ,  0.77458  ,  1.7482   , -0.99022  ,\n",
       "        -0.4618   , -0.59922  , -0.22875  , -0.13579  , -0.31238  ,\n",
       "        -0.2317   , -1.1306   , -1.6938   ,  0.53719  ,  0.13813  ,\n",
       "        -0.726    ,  0.42203  , -1.6626   , -0.27963  ,  1.296    ,\n",
       "         0.34337  ,  0.0034959, -1.1751   ,  0.99338  ,  1.1984   ,\n",
       "        -0.65876  , -1.0515   , -0.89725  ,  0.15547  , -0.66675  ],\n",
       "       dtype=float32),\n",
       " array([ 0.88387  , -0.14199  ,  0.13566  ,  0.098682 ,  0.51218  ,\n",
       "         0.49138  , -0.47155  , -0.30742  ,  0.01963  ,  0.12686  ,\n",
       "         0.073524 ,  0.35836  , -0.60874  , -0.18676  ,  0.78935  ,\n",
       "         0.54534  ,  0.1106   , -0.2923   ,  0.059041 , -0.69551  ,\n",
       "        -0.18804  ,  0.19455  ,  0.32269  , -0.49981  ,  0.306    ,\n",
       "        -2.3902   , -0.60749  ,  0.37107  ,  0.078912 , -0.23896  ,\n",
       "         3.839    , -0.20355  , -0.35613  , -0.69185  , -0.17497  ,\n",
       "        -0.35323  ,  0.10598  , -0.039303 ,  0.015701 ,  0.038279 ,\n",
       "        -0.35283  ,  0.44882  , -0.16534  ,  0.31579  ,  0.14963  ,\n",
       "        -0.071277 , -0.53506  ,  0.52711  , -0.20148  ,  0.0095952],\n",
       "       dtype=float32),\n",
       " array([ 8.1544e-01,  3.0171e-01,  5.4720e-01,  4.6581e-01,  2.8531e-01,\n",
       "        -5.6112e-01, -4.3913e-01, -9.0877e-03,  1.0002e-01, -1.7218e-01,\n",
       "         2.8133e-01,  3.7672e-01, -4.0756e-01,  1.5836e-01,  8.9113e-01,\n",
       "         1.2997e+00,  5.1508e-01, -1.9480e-01,  5.1856e-02, -9.3380e-01,\n",
       "         6.9955e-02, -2.4876e-01, -1.6723e-02, -2.0310e-01, -3.3558e-02,\n",
       "        -1.8132e+00,  1.1199e-01, -3.1961e-01, -1.3746e-01, -4.5499e-01,\n",
       "         3.8856e+00,  1.2140e+00, -1.0046e+00, -5.6274e-02,  3.8776e-03,\n",
       "        -4.0669e-01,  2.9452e-01,  3.0171e-01,  3.8848e-02, -5.6088e-01,\n",
       "        -4.6582e-01,  1.7155e-01,  3.3729e-01, -1.5247e-01,  2.3771e-02,\n",
       "         5.1415e-01, -2.1759e-01,  3.1965e-01, -3.4741e-01,  4.1672e-01],\n",
       "       dtype=float32),\n",
       " array([ 0.36521  ,  0.22801  ,  0.19305  , -0.29554  ,  0.36734  ,\n",
       "        -0.12537  , -0.038514 ,  0.27262  ,  0.20583  ,  0.38828  ,\n",
       "        -0.26067  ,  0.29052  , -0.1073   ,  0.016016 ,  0.46221  ,\n",
       "         0.30846  ,  0.75655  , -0.14722  ,  0.27429  , -0.72906  ,\n",
       "         0.33605  ,  0.24213  , -0.0037456, -0.32012  ,  0.14575  ,\n",
       "        -1.4567   , -0.21763  , -0.40463  ,  0.84995  ,  0.024379 ,\n",
       "         3.22     ,  1.0866   , -1.1265   , -0.23312  , -0.17781  ,\n",
       "         0.23286  , -0.58175  , -0.16729  ,  0.14521  , -0.44081  ,\n",
       "        -0.43188  ,  0.16732  ,  0.22486  , -0.2779   ,  0.18546  ,\n",
       "         0.4678   , -0.20864  ,  0.070111 , -0.32257  , -0.091538 ],\n",
       "       dtype=float32),\n",
       " array([ 0.68465 ,  0.32119 ,  0.94393 ,  0.087845,  0.69898 ,  0.24093 ,\n",
       "        -1.1002  ,  1.0055  ,  0.48336 , -0.69207 ,  0.10091 , -0.33596 ,\n",
       "        -0.2242  ,  0.46443 ,  1.362   , -0.5926  , -0.37568 , -0.30073 ,\n",
       "        -0.73729 ,  0.046299, -0.97536 ,  0.92961 ,  0.48104 , -0.086023,\n",
       "         0.6835  , -1.2752  , -0.43638 , -0.028082,  0.14856 , -0.45911 ,\n",
       "         2.5298  , -0.09194 ,  0.25185 ,  0.11802 ,  0.69638 ,  0.97436 ,\n",
       "         0.4747  , -0.24754 ,  0.37377 , -0.38144 , -0.32768 ,  0.091759,\n",
       "         1.0538  , -0.13486 ,  0.18602 , -0.085826, -0.056935,  0.4131  ,\n",
       "         0.15945 , -1.1142  ], dtype=float32),\n",
       " array([-0.65826 ,  0.70134 , -0.65681 , -0.98726 ,  0.48835 ,  0.56114 ,\n",
       "        -0.60911 , -0.36035 , -0.036358, -0.11499 ,  0.2281  , -0.459   ,\n",
       "        -0.10042 , -0.42613 ,  0.79978 ,  0.017422, -0.34133 ,  0.73644 ,\n",
       "        -0.016533,  0.054401, -0.17343 ,  1.6337  ,  0.68253 ,  1.4635  ,\n",
       "        -0.27418 , -1.0041  , -0.54461 , -0.3128  , -0.22009 , -1.1839  ,\n",
       "         2.4682  ,  1.0396  , -0.060377, -0.50688 ,  0.86831 ,  0.49171 ,\n",
       "         0.27115 , -0.71569 , -0.12354 , -0.94097 , -0.85589 , -0.75384 ,\n",
       "         0.50264 ,  0.09436 ,  1.2041  , -0.5627  ,  0.31881 , -1.302   ,\n",
       "        -0.024697, -0.12486 ], dtype=float32),\n",
       " array([ 2.3302e-01,  4.5885e-01,  2.6602e-01,  3.8204e-02,  5.6694e-01,\n",
       "        -5.1194e-01, -1.7831e+00,  4.3072e-01,  1.3246e-03,  1.7852e-02,\n",
       "        -5.1549e-01, -5.4466e-01, -2.5115e-01, -3.7632e-01,  4.0969e-01,\n",
       "         7.0356e-02, -2.6120e-01, -2.7769e-03, -5.1361e-01,  2.9828e-01,\n",
       "         1.4496e-01,  5.3748e-01, -6.2443e-01,  4.1379e-01, -2.2006e-01,\n",
       "        -1.6277e+00,  2.9026e-01, -1.8530e-02,  5.1004e-01, -6.1231e-01,\n",
       "         3.2380e+00,  7.4873e-01,  1.8835e-01,  2.2167e-02,  5.7824e-01,\n",
       "         5.2022e-01,  1.5287e-01,  4.1601e-01,  5.5260e-01, -4.0373e-01,\n",
       "        -1.8057e-01,  2.0914e-01, -2.3873e-01,  1.1284e-01, -7.4940e-03,\n",
       "         5.7918e-01, -4.3641e-01, -8.0904e-01,  2.0410e-01, -1.9532e-01],\n",
       "       dtype=float32)]"
      ]
     },
     "execution_count": 431,
     "metadata": {},
     "output_type": "execute_result"
    }
   ],
   "source": [
    "train_input[12]"
   ]
  },
  {
   "cell_type": "code",
   "execution_count": 411,
   "metadata": {},
   "outputs": [],
   "source": [
    "num_steps = 1\n",
    "hidden_size = 50\n",
    "\n",
    "model2 = Sequential()\n",
    "#model2.add(Input(shape=(MAX_SEQUENCE_LENGTH,), dtype='int32'))\n",
    "#model.add(Embedding(vocab, hidden_size, input_length=num_steps))\n",
    "model2.add(Embedding(vocab_size, hidden_size, input_length=num_steps))\n",
    "model2.add(LSTM(hidden_size, return_sequences=True))\n",
    "model2.add(LSTM(hidden_size, return_sequences=True))\n",
    "model2.add(Dropout(0.5))\n",
    "#model.add(TimeDistributed(Dense(vocab_size)))\n",
    "model2.add(Activation('softmax'))"
   ]
  },
  {
   "cell_type": "code",
   "execution_count": 412,
   "metadata": {},
   "outputs": [
    {
     "name": "stdout",
     "output_type": "stream",
     "text": [
      "_________________________________________________________________\n",
      "Layer (type)                 Output Shape              Param #   \n",
      "=================================================================\n",
      "embedding_20 (Embedding)     (None, 1, 50)             2500      \n",
      "_________________________________________________________________\n",
      "lstm_31 (LSTM)               (None, 1, 50)             20200     \n",
      "_________________________________________________________________\n",
      "lstm_32 (LSTM)               (None, 1, 50)             20200     \n",
      "_________________________________________________________________\n",
      "dropout_16 (Dropout)         (None, 1, 50)             0         \n",
      "_________________________________________________________________\n",
      "activation_14 (Activation)   (None, 1, 50)             0         \n",
      "=================================================================\n",
      "Total params: 42,900\n",
      "Trainable params: 42,900\n",
      "Non-trainable params: 0\n",
      "_________________________________________________________________\n",
      "None\n"
     ]
    }
   ],
   "source": [
    "# summarize the model\n",
    "print(model2.summary())"
   ]
  },
  {
   "cell_type": "code",
   "execution_count": 415,
   "metadata": {},
   "outputs": [
    {
     "data": {
      "text/plain": [
       "array([[[0.02000602, 0.01999915, 0.01999659, ..., 0.01997498,\n",
       "         0.0199929 , 0.01999348]],\n",
       "\n",
       "       [[0.02002586, 0.01999705, 0.01999787, ..., 0.02000447,\n",
       "         0.01999288, 0.01999779]],\n",
       "\n",
       "       [[0.02002586, 0.01999705, 0.01999787, ..., 0.02000447,\n",
       "         0.01999288, 0.01999779]],\n",
       "\n",
       "       ...,\n",
       "\n",
       "       [[0.02002586, 0.01999705, 0.01999787, ..., 0.02000447,\n",
       "         0.01999288, 0.01999779]],\n",
       "\n",
       "       [[0.02002586, 0.01999705, 0.01999787, ..., 0.02000447,\n",
       "         0.01999288, 0.01999779]],\n",
       "\n",
       "       [[0.02002586, 0.01999705, 0.01999787, ..., 0.02000447,\n",
       "         0.01999288, 0.01999779]]], dtype=float32)"
      ]
     },
     "execution_count": 415,
     "metadata": {},
     "output_type": "execute_result"
    }
   ],
   "source": [
    "model2.predict(train_input[0][1])"
   ]
  },
  {
   "cell_type": "code",
   "execution_count": 416,
   "metadata": {},
   "outputs": [],
   "source": [
    "model2.compile(optimizer='adam', loss='binary_crossentropy')"
   ]
  },
  {
   "cell_type": "code",
   "execution_count": 418,
   "metadata": {},
   "outputs": [
    {
     "ename": "ValueError",
     "evalue": "Error when checking target: expected activation_14 to have 3 dimensions, but got array with shape (10, 1)",
     "output_type": "error",
     "traceback": [
      "\u001b[1;31m---------------------------------------------------------------------------\u001b[0m",
      "\u001b[1;31mValueError\u001b[0m                                Traceback (most recent call last)",
      "\u001b[1;32m<ipython-input-418-dd9671816891>\u001b[0m in \u001b[0;36m<module>\u001b[1;34m\u001b[0m\n\u001b[1;32m----> 1\u001b[1;33m \u001b[0mmodel2\u001b[0m\u001b[1;33m.\u001b[0m\u001b[0mfit\u001b[0m\u001b[1;33m(\u001b[0m\u001b[0mtrain_input\u001b[0m\u001b[1;33m[\u001b[0m\u001b[1;36m0\u001b[0m\u001b[1;33m]\u001b[0m\u001b[1;33m[\u001b[0m\u001b[1;36m1\u001b[0m\u001b[1;33m]\u001b[0m\u001b[1;33m,\u001b[0m \u001b[0mlabels\u001b[0m \u001b[1;33m)\u001b[0m\u001b[1;33m\u001b[0m\u001b[1;33m\u001b[0m\u001b[0m\n\u001b[0m",
      "\u001b[1;32m~\\Anaconda3\\lib\\site-packages\\keras\\engine\\training.py\u001b[0m in \u001b[0;36mfit\u001b[1;34m(self, x, y, batch_size, epochs, verbose, callbacks, validation_split, validation_data, shuffle, class_weight, sample_weight, initial_epoch, steps_per_epoch, validation_steps, **kwargs)\u001b[0m\n\u001b[0;32m    950\u001b[0m             \u001b[0msample_weight\u001b[0m\u001b[1;33m=\u001b[0m\u001b[0msample_weight\u001b[0m\u001b[1;33m,\u001b[0m\u001b[1;33m\u001b[0m\u001b[1;33m\u001b[0m\u001b[0m\n\u001b[0;32m    951\u001b[0m             \u001b[0mclass_weight\u001b[0m\u001b[1;33m=\u001b[0m\u001b[0mclass_weight\u001b[0m\u001b[1;33m,\u001b[0m\u001b[1;33m\u001b[0m\u001b[1;33m\u001b[0m\u001b[0m\n\u001b[1;32m--> 952\u001b[1;33m             batch_size=batch_size)\n\u001b[0m\u001b[0;32m    953\u001b[0m         \u001b[1;31m# Prepare validation data.\u001b[0m\u001b[1;33m\u001b[0m\u001b[1;33m\u001b[0m\u001b[1;33m\u001b[0m\u001b[0m\n\u001b[0;32m    954\u001b[0m         \u001b[0mdo_validation\u001b[0m \u001b[1;33m=\u001b[0m \u001b[1;32mFalse\u001b[0m\u001b[1;33m\u001b[0m\u001b[1;33m\u001b[0m\u001b[0m\n",
      "\u001b[1;32m~\\Anaconda3\\lib\\site-packages\\keras\\engine\\training.py\u001b[0m in \u001b[0;36m_standardize_user_data\u001b[1;34m(self, x, y, sample_weight, class_weight, check_array_lengths, batch_size)\u001b[0m\n\u001b[0;32m    787\u001b[0m                 \u001b[0mfeed_output_shapes\u001b[0m\u001b[1;33m,\u001b[0m\u001b[1;33m\u001b[0m\u001b[1;33m\u001b[0m\u001b[0m\n\u001b[0;32m    788\u001b[0m                 \u001b[0mcheck_batch_axis\u001b[0m\u001b[1;33m=\u001b[0m\u001b[1;32mFalse\u001b[0m\u001b[1;33m,\u001b[0m  \u001b[1;31m# Don't enforce the batch size.\u001b[0m\u001b[1;33m\u001b[0m\u001b[1;33m\u001b[0m\u001b[0m\n\u001b[1;32m--> 789\u001b[1;33m                 exception_prefix='target')\n\u001b[0m\u001b[0;32m    790\u001b[0m \u001b[1;33m\u001b[0m\u001b[0m\n\u001b[0;32m    791\u001b[0m             \u001b[1;31m# Generate sample-wise weight values given the `sample_weight` and\u001b[0m\u001b[1;33m\u001b[0m\u001b[1;33m\u001b[0m\u001b[1;33m\u001b[0m\u001b[0m\n",
      "\u001b[1;32m~\\Anaconda3\\lib\\site-packages\\keras\\engine\\training_utils.py\u001b[0m in \u001b[0;36mstandardize_input_data\u001b[1;34m(data, names, shapes, check_batch_axis, exception_prefix)\u001b[0m\n\u001b[0;32m    126\u001b[0m                         \u001b[1;34m': expected '\u001b[0m \u001b[1;33m+\u001b[0m \u001b[0mnames\u001b[0m\u001b[1;33m[\u001b[0m\u001b[0mi\u001b[0m\u001b[1;33m]\u001b[0m \u001b[1;33m+\u001b[0m \u001b[1;34m' to have '\u001b[0m \u001b[1;33m+\u001b[0m\u001b[1;33m\u001b[0m\u001b[1;33m\u001b[0m\u001b[0m\n\u001b[0;32m    127\u001b[0m                         \u001b[0mstr\u001b[0m\u001b[1;33m(\u001b[0m\u001b[0mlen\u001b[0m\u001b[1;33m(\u001b[0m\u001b[0mshape\u001b[0m\u001b[1;33m)\u001b[0m\u001b[1;33m)\u001b[0m \u001b[1;33m+\u001b[0m \u001b[1;34m' dimensions, but got array '\u001b[0m\u001b[1;33m\u001b[0m\u001b[1;33m\u001b[0m\u001b[0m\n\u001b[1;32m--> 128\u001b[1;33m                         'with shape ' + str(data_shape))\n\u001b[0m\u001b[0;32m    129\u001b[0m                 \u001b[1;32mif\u001b[0m \u001b[1;32mnot\u001b[0m \u001b[0mcheck_batch_axis\u001b[0m\u001b[1;33m:\u001b[0m\u001b[1;33m\u001b[0m\u001b[1;33m\u001b[0m\u001b[0m\n\u001b[0;32m    130\u001b[0m                     \u001b[0mdata_shape\u001b[0m \u001b[1;33m=\u001b[0m \u001b[0mdata_shape\u001b[0m\u001b[1;33m[\u001b[0m\u001b[1;36m1\u001b[0m\u001b[1;33m:\u001b[0m\u001b[1;33m]\u001b[0m\u001b[1;33m\u001b[0m\u001b[1;33m\u001b[0m\u001b[0m\n",
      "\u001b[1;31mValueError\u001b[0m: Error when checking target: expected activation_14 to have 3 dimensions, but got array with shape (10, 1)"
     ]
    }
   ],
   "source": [
    "model2.fit(train_input[0][1], labels )"
   ]
  },
  {
   "cell_type": "code",
   "execution_count": null,
   "metadata": {},
   "outputs": [],
   "source": []
  }
 ],
 "metadata": {
  "kernelspec": {
   "display_name": "Python 3",
   "language": "python",
   "name": "python3"
  },
  "language_info": {
   "codemirror_mode": {
    "name": "ipython",
    "version": 3
   },
   "file_extension": ".py",
   "mimetype": "text/x-python",
   "name": "python",
   "nbconvert_exporter": "python",
   "pygments_lexer": "ipython3",
   "version": "3.7.5"
  }
 },
 "nbformat": 4,
 "nbformat_minor": 2
}

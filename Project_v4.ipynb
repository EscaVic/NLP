{
 "cells": [
  {
   "cell_type": "code",
   "execution_count": 1,
   "metadata": {},
   "outputs": [
    {
     "name": "stderr",
     "output_type": "stream",
     "text": [
      "C:\\Users\\vwang80\\Anaconda3\\lib\\site-packages\\tensorflow\\python\\framework\\dtypes.py:526: FutureWarning: Passing (type, 1) or '1type' as a synonym of type is deprecated; in a future version of numpy, it will be understood as (type, (1,)) / '(1,)type'.\n",
      "  _np_qint8 = np.dtype([(\"qint8\", np.int8, 1)])\n",
      "C:\\Users\\vwang80\\Anaconda3\\lib\\site-packages\\tensorflow\\python\\framework\\dtypes.py:527: FutureWarning: Passing (type, 1) or '1type' as a synonym of type is deprecated; in a future version of numpy, it will be understood as (type, (1,)) / '(1,)type'.\n",
      "  _np_quint8 = np.dtype([(\"quint8\", np.uint8, 1)])\n",
      "C:\\Users\\vwang80\\Anaconda3\\lib\\site-packages\\tensorflow\\python\\framework\\dtypes.py:528: FutureWarning: Passing (type, 1) or '1type' as a synonym of type is deprecated; in a future version of numpy, it will be understood as (type, (1,)) / '(1,)type'.\n",
      "  _np_qint16 = np.dtype([(\"qint16\", np.int16, 1)])\n",
      "C:\\Users\\vwang80\\Anaconda3\\lib\\site-packages\\tensorflow\\python\\framework\\dtypes.py:529: FutureWarning: Passing (type, 1) or '1type' as a synonym of type is deprecated; in a future version of numpy, it will be understood as (type, (1,)) / '(1,)type'.\n",
      "  _np_quint16 = np.dtype([(\"quint16\", np.uint16, 1)])\n",
      "C:\\Users\\vwang80\\Anaconda3\\lib\\site-packages\\tensorflow\\python\\framework\\dtypes.py:530: FutureWarning: Passing (type, 1) or '1type' as a synonym of type is deprecated; in a future version of numpy, it will be understood as (type, (1,)) / '(1,)type'.\n",
      "  _np_qint32 = np.dtype([(\"qint32\", np.int32, 1)])\n",
      "C:\\Users\\vwang80\\Anaconda3\\lib\\site-packages\\tensorflow\\python\\framework\\dtypes.py:535: FutureWarning: Passing (type, 1) or '1type' as a synonym of type is deprecated; in a future version of numpy, it will be understood as (type, (1,)) / '(1,)type'.\n",
      "  np_resource = np.dtype([(\"resource\", np.ubyte, 1)])\n"
     ]
    }
   ],
   "source": [
    "# imports\n",
    "import pandas as pd\n",
    "\n",
    "# This tells matplotlib not to try opening a new window for each plot.\n",
    "%matplotlib inline\n",
    "\n",
    "# Import a bunch of libraries.\n",
    "import json\n",
    "import time\n",
    "import pandas as pd\n",
    "import numpy as np\n",
    "import matplotlib.pyplot as plt\n",
    "from sklearn.model_selection import GridSearchCV\n",
    "from sklearn.metrics import classification_report\n",
    "\n",
    "# cnn imports\n",
    "import tensorflow as tf\n",
    "from tensorflow.keras.preprocessing.text import Tokenizer\n",
    "from tensorflow.keras.layers import Flatten, LSTM, Bidirectional, Layer, Input\n",
    "from tensorflow.python.keras.layers import Input, Dense, Embedding, BatchNormalization, Dropout\n",
    "from tensorflow.keras.models import Sequential,Model\n",
    "from tensorflow.keras.preprocessing.sequence import pad_sequences\n",
    "\n",
    "from numpy import array\n",
    "\n",
    "from datetime import datetime\n",
    "\n",
    "\n",
    "# Set the randomizer seed so results are the same each time.\n",
    "np.random.seed(0)"
   ]
  },
  {
   "cell_type": "code",
   "execution_count": 2,
   "metadata": {},
   "outputs": [],
   "source": [
    "# Load data\n",
    "bodies_df = pd.read_csv(\"train_bodies.csv\")\n",
    "stances_df =  pd.read_csv(\"train_stances.csv\")\n",
    "\n",
    "# Examine data shape\n",
    "bodies_df.shape\n",
    "bodies_df.head()\n",
    "\n",
    "stances_df.shape\n",
    "stances_df.head()\n",
    "\n",
    "stances_df.head()\n",
    "#combine body and stance tables\n",
    "combined = pd.concat([stances_df.set_index('Body ID'),bodies_df.set_index('Body ID')], axis=1, join='inner').reset_index()\n",
    "\n",
    "combined.shape\n",
    "\n",
    "combined.head()\n",
    "\n",
    "combined_df_t=combined[['Headline', 'articleBody', 'Stance']]\n",
    "\n",
    "combined_df_t.head()\n",
    "\n",
    "# Extract column for just labels\n",
    "labels_t = combined_df_t['Stance']\n"
   ]
  },
  {
   "cell_type": "code",
   "execution_count": 3,
   "metadata": {},
   "outputs": [
    {
     "data": {
      "text/plain": [
       "(1683, 2)"
      ]
     },
     "execution_count": 3,
     "metadata": {},
     "output_type": "execute_result"
    }
   ],
   "source": [
    "# Examine data shape\n",
    "bodies_df.shape"
   ]
  },
  {
   "cell_type": "code",
   "execution_count": 4,
   "metadata": {},
   "outputs": [
    {
     "data": {
      "text/plain": [
       "(49972, 3)"
      ]
     },
     "execution_count": 4,
     "metadata": {},
     "output_type": "execute_result"
    }
   ],
   "source": [
    "stances_df.shape"
   ]
  },
  {
   "cell_type": "code",
   "execution_count": 5,
   "metadata": {},
   "outputs": [
    {
     "data": {
      "text/html": [
       "<div>\n",
       "<style scoped>\n",
       "    .dataframe tbody tr th:only-of-type {\n",
       "        vertical-align: middle;\n",
       "    }\n",
       "\n",
       "    .dataframe tbody tr th {\n",
       "        vertical-align: top;\n",
       "    }\n",
       "\n",
       "    .dataframe thead th {\n",
       "        text-align: right;\n",
       "    }\n",
       "</style>\n",
       "<table border=\"1\" class=\"dataframe\">\n",
       "  <thead>\n",
       "    <tr style=\"text-align: right;\">\n",
       "      <th></th>\n",
       "      <th>Headline</th>\n",
       "      <th>articleBody</th>\n",
       "      <th>Stance</th>\n",
       "    </tr>\n",
       "  </thead>\n",
       "  <tbody>\n",
       "    <tr>\n",
       "      <th>0</th>\n",
       "      <td>Police find mass graves with at least '15 bodi...</td>\n",
       "      <td>Danny Boyle is directing the untitled film\\n\\n...</td>\n",
       "      <td>unrelated</td>\n",
       "    </tr>\n",
       "    <tr>\n",
       "      <th>1</th>\n",
       "      <td>Hundreds of Palestinians flee floods in Gaza a...</td>\n",
       "      <td>Hundreds of Palestinians were evacuated from t...</td>\n",
       "      <td>agree</td>\n",
       "    </tr>\n",
       "    <tr>\n",
       "      <th>2</th>\n",
       "      <td>Christian Bale passes on role of Steve Jobs, a...</td>\n",
       "      <td>30-year-old Moscow resident was hospitalized w...</td>\n",
       "      <td>unrelated</td>\n",
       "    </tr>\n",
       "    <tr>\n",
       "      <th>3</th>\n",
       "      <td>HBO and Apple in Talks for $15/Month Apple TV ...</td>\n",
       "      <td>(Reuters) - A Canadian soldier was shot at the...</td>\n",
       "      <td>unrelated</td>\n",
       "    </tr>\n",
       "    <tr>\n",
       "      <th>4</th>\n",
       "      <td>Spider burrowed through tourist's stomach and ...</td>\n",
       "      <td>Fear not arachnophobes, the story of Bunbury's...</td>\n",
       "      <td>disagree</td>\n",
       "    </tr>\n",
       "  </tbody>\n",
       "</table>\n",
       "</div>"
      ],
      "text/plain": [
       "                                            Headline  \\\n",
       "0  Police find mass graves with at least '15 bodi...   \n",
       "1  Hundreds of Palestinians flee floods in Gaza a...   \n",
       "2  Christian Bale passes on role of Steve Jobs, a...   \n",
       "3  HBO and Apple in Talks for $15/Month Apple TV ...   \n",
       "4  Spider burrowed through tourist's stomach and ...   \n",
       "\n",
       "                                         articleBody     Stance  \n",
       "0  Danny Boyle is directing the untitled film\\n\\n...  unrelated  \n",
       "1  Hundreds of Palestinians were evacuated from t...      agree  \n",
       "2  30-year-old Moscow resident was hospitalized w...  unrelated  \n",
       "3  (Reuters) - A Canadian soldier was shot at the...  unrelated  \n",
       "4  Fear not arachnophobes, the story of Bunbury's...   disagree  "
      ]
     },
     "execution_count": 5,
     "metadata": {},
     "output_type": "execute_result"
    }
   ],
   "source": [
    "combined_df_t.head()"
   ]
  },
  {
   "cell_type": "code",
   "execution_count": 6,
   "metadata": {},
   "outputs": [
    {
     "data": {
      "text/plain": [
       "(49972, 3)"
      ]
     },
     "execution_count": 6,
     "metadata": {},
     "output_type": "execute_result"
    }
   ],
   "source": [
    "combined_df_t.shape"
   ]
  },
  {
   "cell_type": "code",
   "execution_count": 7,
   "metadata": {},
   "outputs": [],
   "source": [
    "# Drop columns that are strings\n",
    "all_data_processed = combined_df_t.drop(['Stance'], axis=1)\n",
    "#all_data_processed = combined_df_t.drop(['articleBody'], axis=1)"
   ]
  },
  {
   "cell_type": "code",
   "execution_count": 8,
   "metadata": {},
   "outputs": [],
   "source": [
    "new_labels1= labels_t.copy()\n",
    "\n",
    "new_labels1[new_labels1=='agree']=2\n",
    "new_labels1[new_labels1=='unrelated']=1\n",
    "new_labels1[new_labels1=='disagree']=0\n",
    "new_labels1[new_labels1=='discuss']=1\n"
   ]
  },
  {
   "cell_type": "code",
   "execution_count": 9,
   "metadata": {},
   "outputs": [
    {
     "data": {
      "text/plain": [
       "0        1\n",
       "1        2\n",
       "2        1\n",
       "3        1\n",
       "4        0\n",
       "        ..\n",
       "49967    1\n",
       "49968    1\n",
       "49969    2\n",
       "49970    1\n",
       "49971    1\n",
       "Name: Stance, Length: 49972, dtype: object"
      ]
     },
     "execution_count": 9,
     "metadata": {},
     "output_type": "execute_result"
    }
   ],
   "source": [
    "new_labels1"
   ]
  },
  {
   "cell_type": "code",
   "execution_count": 10,
   "metadata": {},
   "outputs": [
    {
     "data": {
      "text/plain": [
       "1.0567918034099095"
      ]
     },
     "execution_count": 10,
     "metadata": {},
     "output_type": "execute_result"
    }
   ],
   "source": [
    "sum(new_labels1)/len(new_labels1)"
   ]
  },
  {
   "cell_type": "code",
   "execution_count": 11,
   "metadata": {},
   "outputs": [
    {
     "data": {
      "text/html": [
       "<div>\n",
       "<style scoped>\n",
       "    .dataframe tbody tr th:only-of-type {\n",
       "        vertical-align: middle;\n",
       "    }\n",
       "\n",
       "    .dataframe tbody tr th {\n",
       "        vertical-align: top;\n",
       "    }\n",
       "\n",
       "    .dataframe thead th {\n",
       "        text-align: right;\n",
       "    }\n",
       "</style>\n",
       "<table border=\"1\" class=\"dataframe\">\n",
       "  <thead>\n",
       "    <tr style=\"text-align: right;\">\n",
       "      <th></th>\n",
       "      <th>Headline</th>\n",
       "      <th>articleBody</th>\n",
       "    </tr>\n",
       "  </thead>\n",
       "  <tbody>\n",
       "    <tr>\n",
       "      <th>0</th>\n",
       "      <td>Police find mass graves with at least '15 bodi...</td>\n",
       "      <td>Danny Boyle is directing the untitled film\\n\\n...</td>\n",
       "    </tr>\n",
       "    <tr>\n",
       "      <th>1</th>\n",
       "      <td>Hundreds of Palestinians flee floods in Gaza a...</td>\n",
       "      <td>Hundreds of Palestinians were evacuated from t...</td>\n",
       "    </tr>\n",
       "    <tr>\n",
       "      <th>2</th>\n",
       "      <td>Christian Bale passes on role of Steve Jobs, a...</td>\n",
       "      <td>30-year-old Moscow resident was hospitalized w...</td>\n",
       "    </tr>\n",
       "    <tr>\n",
       "      <th>3</th>\n",
       "      <td>HBO and Apple in Talks for $15/Month Apple TV ...</td>\n",
       "      <td>(Reuters) - A Canadian soldier was shot at the...</td>\n",
       "    </tr>\n",
       "    <tr>\n",
       "      <th>4</th>\n",
       "      <td>Spider burrowed through tourist's stomach and ...</td>\n",
       "      <td>Fear not arachnophobes, the story of Bunbury's...</td>\n",
       "    </tr>\n",
       "  </tbody>\n",
       "</table>\n",
       "</div>"
      ],
      "text/plain": [
       "                                            Headline  \\\n",
       "0  Police find mass graves with at least '15 bodi...   \n",
       "1  Hundreds of Palestinians flee floods in Gaza a...   \n",
       "2  Christian Bale passes on role of Steve Jobs, a...   \n",
       "3  HBO and Apple in Talks for $15/Month Apple TV ...   \n",
       "4  Spider burrowed through tourist's stomach and ...   \n",
       "\n",
       "                                         articleBody  \n",
       "0  Danny Boyle is directing the untitled film\\n\\n...  \n",
       "1  Hundreds of Palestinians were evacuated from t...  \n",
       "2  30-year-old Moscow resident was hospitalized w...  \n",
       "3  (Reuters) - A Canadian soldier was shot at the...  \n",
       "4  Fear not arachnophobes, the story of Bunbury's...  "
      ]
     },
     "execution_count": 11,
     "metadata": {},
     "output_type": "execute_result"
    }
   ],
   "source": [
    "all_data_processed.head()"
   ]
  },
  {
   "cell_type": "code",
   "execution_count": 12,
   "metadata": {},
   "outputs": [],
   "source": [
    "# Set some variables to hold test, dev, and training data.\n",
    "test_data, test_labels = all_data_processed[:1000], new_labels1[:1000]\n",
    "dev_data, dev_labels = all_data_processed[1001:3000], new_labels1[1001:3000]\n",
    "train_data, train_labels = all_data_processed[3001:], new_labels1[3001:]"
   ]
  },
  {
   "cell_type": "code",
   "execution_count": 13,
   "metadata": {},
   "outputs": [
    {
     "data": {
      "text/plain": [
       "1000"
      ]
     },
     "execution_count": 13,
     "metadata": {},
     "output_type": "execute_result"
    }
   ],
   "source": [
    "len(test_data)"
   ]
  },
  {
   "cell_type": "code",
   "execution_count": 14,
   "metadata": {},
   "outputs": [
    {
     "data": {
      "text/plain": [
       "46971"
      ]
     },
     "execution_count": 14,
     "metadata": {},
     "output_type": "execute_result"
    }
   ],
   "source": [
    "len(train_data)"
   ]
  },
  {
   "cell_type": "code",
   "execution_count": 15,
   "metadata": {},
   "outputs": [],
   "source": [
    "# Used GLoVE embeddings\n",
    "embeddings_dict = {}\n",
    "with open(\"glove.6B.50d.txt\", 'r', encoding='utf-8') as f:\n",
    "    for line in f:\n",
    "        values = line.split()\n",
    "        token = values[0]\n",
    "        vector = np.asarray(values[1:], \"float32\")\n",
    "        embeddings_dict[token] = vector"
   ]
  },
  {
   "cell_type": "code",
   "execution_count": 16,
   "metadata": {},
   "outputs": [],
   "source": [
    "def sent_to_ids(sentences):\n",
    "    \"\"\"\n",
    "    converting a list of strings to a list of lists of word ids\n",
    "    \"\"\"\n",
    "    \n",
    "    # TODO - Update Regular Expression for parsing (TINA)\n",
    "    # Improvement Option (Remove trailing 's') Check Missing list for optimization\n",
    "    \n",
    "    #re.sub('[^A-Za-z0-9]+', '', mystring)\n",
    "    #cleanString = re.sub('\\W+','', string ) \n",
    "    \n",
    "    bad_chars = [';', ':', '!', \"*\"] \n",
    "    \n",
    "    text_ids = []\n",
    "    example = []\n",
    "    sentences = sentences.replace('.','')\n",
    "    sentences = sentences.replace('\\'','')\n",
    "    sentences = sentences.replace(',','')\n",
    "    sentences = sentences.replace('$','')\n",
    "    sentences = sentences.replace('/',' ')\n",
    "    sentences = sentences.replace('','')\n",
    "    for word in sentences.split(' '):\n",
    "        #word.lower()\n",
    "        temp = word.lower()\n",
    "        #temp.replace('\\'','')\n",
    "        if temp in embeddings_dict:\n",
    "            example.append(embeddings_dict[temp])\n",
    "        else:\n",
    "            print(\"Missing \", temp)            \n",
    "    text_ids.append(example)\n",
    "\n",
    "    return  text_ids   "
   ]
  },
  {
   "cell_type": "code",
   "execution_count": 17,
   "metadata": {},
   "outputs": [],
   "source": [
    "all_data_emb = all_data_processed.copy()"
   ]
  },
  {
   "cell_type": "code",
   "execution_count": 18,
   "metadata": {},
   "outputs": [
    {
     "data": {
      "text/plain": [
       "'Hundreds of Palestinians flee floods in Gaza as Israel opens dams'"
      ]
     },
     "execution_count": 18,
     "metadata": {},
     "output_type": "execute_result"
    }
   ],
   "source": [
    "all_data_processed['Headline'][1]"
   ]
  },
  {
   "cell_type": "code",
   "execution_count": 19,
   "metadata": {},
   "outputs": [
    {
     "data": {
      "text/html": [
       "<div>\n",
       "<style scoped>\n",
       "    .dataframe tbody tr th:only-of-type {\n",
       "        vertical-align: middle;\n",
       "    }\n",
       "\n",
       "    .dataframe tbody tr th {\n",
       "        vertical-align: top;\n",
       "    }\n",
       "\n",
       "    .dataframe thead th {\n",
       "        text-align: right;\n",
       "    }\n",
       "</style>\n",
       "<table border=\"1\" class=\"dataframe\">\n",
       "  <thead>\n",
       "    <tr style=\"text-align: right;\">\n",
       "      <th></th>\n",
       "      <th>Headline</th>\n",
       "      <th>articleBody</th>\n",
       "    </tr>\n",
       "  </thead>\n",
       "  <tbody>\n",
       "    <tr>\n",
       "      <th>3001</th>\n",
       "      <td>Jihadi John ‘identified as British man from We...</td>\n",
       "      <td>Some iPhone 6 users say they are literally pul...</td>\n",
       "    </tr>\n",
       "    <tr>\n",
       "      <th>3002</th>\n",
       "      <td>Dog abandoned at Scotland train station with s...</td>\n",
       "      <td>Offers have been pouring in to re-home a dog f...</td>\n",
       "    </tr>\n",
       "    <tr>\n",
       "      <th>3003</th>\n",
       "      <td>The Man Who Says Comcast Got Him Fired Has Fil...</td>\n",
       "      <td>A photo provided by the Nicaraguan Army shows ...</td>\n",
       "    </tr>\n",
       "    <tr>\n",
       "      <th>3004</th>\n",
       "      <td>Iraqi media says ISIS militants have contracte...</td>\n",
       "      <td>It's what national security organizations have...</td>\n",
       "    </tr>\n",
       "    <tr>\n",
       "      <th>3005</th>\n",
       "      <td>An accidental delivery of arms to the Islamic ...</td>\n",
       "      <td>We're just two months away from the Apple Watc...</td>\n",
       "    </tr>\n",
       "    <tr>\n",
       "      <th>...</th>\n",
       "      <td>...</td>\n",
       "      <td>...</td>\n",
       "    </tr>\n",
       "    <tr>\n",
       "      <th>49967</th>\n",
       "      <td>Urgent: The Leader of ISIL 'Abu Bakr al-Baghda...</td>\n",
       "      <td>(CNN) -- Boko Haram laughed off Nigeria's anno...</td>\n",
       "    </tr>\n",
       "    <tr>\n",
       "      <th>49968</th>\n",
       "      <td>Brian Williams slams social media for speculat...</td>\n",
       "      <td>Along with unveiling the Apple Watch earlier t...</td>\n",
       "    </tr>\n",
       "    <tr>\n",
       "      <th>49969</th>\n",
       "      <td>Mexico Says Missing Students Not Found In Firs...</td>\n",
       "      <td>The bodies found in a mass grave were confirme...</td>\n",
       "    </tr>\n",
       "    <tr>\n",
       "      <th>49970</th>\n",
       "      <td>US Lawmaker: Ten ISIS Fighters Have Been Appre...</td>\n",
       "      <td>Rep. Duncan Hunter (R-CA) told Greta Van Suste...</td>\n",
       "    </tr>\n",
       "    <tr>\n",
       "      <th>49971</th>\n",
       "      <td>Shots Heard In Alleged Brown Shooting Recordin...</td>\n",
       "      <td>A married TV actor who met a young woman and k...</td>\n",
       "    </tr>\n",
       "  </tbody>\n",
       "</table>\n",
       "<p>46971 rows × 2 columns</p>\n",
       "</div>"
      ],
      "text/plain": [
       "                                                Headline  \\\n",
       "3001   Jihadi John ‘identified as British man from We...   \n",
       "3002   Dog abandoned at Scotland train station with s...   \n",
       "3003   The Man Who Says Comcast Got Him Fired Has Fil...   \n",
       "3004   Iraqi media says ISIS militants have contracte...   \n",
       "3005   An accidental delivery of arms to the Islamic ...   \n",
       "...                                                  ...   \n",
       "49967  Urgent: The Leader of ISIL 'Abu Bakr al-Baghda...   \n",
       "49968  Brian Williams slams social media for speculat...   \n",
       "49969  Mexico Says Missing Students Not Found In Firs...   \n",
       "49970  US Lawmaker: Ten ISIS Fighters Have Been Appre...   \n",
       "49971  Shots Heard In Alleged Brown Shooting Recordin...   \n",
       "\n",
       "                                             articleBody  \n",
       "3001   Some iPhone 6 users say they are literally pul...  \n",
       "3002   Offers have been pouring in to re-home a dog f...  \n",
       "3003   A photo provided by the Nicaraguan Army shows ...  \n",
       "3004   It's what national security organizations have...  \n",
       "3005   We're just two months away from the Apple Watc...  \n",
       "...                                                  ...  \n",
       "49967  (CNN) -- Boko Haram laughed off Nigeria's anno...  \n",
       "49968  Along with unveiling the Apple Watch earlier t...  \n",
       "49969  The bodies found in a mass grave were confirme...  \n",
       "49970  Rep. Duncan Hunter (R-CA) told Greta Van Suste...  \n",
       "49971  A married TV actor who met a young woman and k...  \n",
       "\n",
       "[46971 rows x 2 columns]"
      ]
     },
     "execution_count": 19,
     "metadata": {},
     "output_type": "execute_result"
    }
   ],
   "source": [
    "train_data"
   ]
  },
  {
   "cell_type": "code",
   "execution_count": 20,
   "metadata": {},
   "outputs": [],
   "source": [
    "all_data_token = combined_df_t['Headline']+combined_df_t['articleBody']"
   ]
  },
  {
   "cell_type": "code",
   "execution_count": 21,
   "metadata": {},
   "outputs": [],
   "source": [
    "# prepare tokenizer\n",
    "t = Tokenizer()\n",
    "t.fit_on_texts(all_data_token)\n",
    "vocab_size = len(t.word_index) + 1\n",
    "# integer encode the documents\n",
    "encoded_docs = t.texts_to_sequences(test_data)\n",
    "#print(encoded_docs)"
   ]
  },
  {
   "cell_type": "code",
   "execution_count": 22,
   "metadata": {},
   "outputs": [
    {
     "name": "stdout",
     "output_type": "stream",
     "text": [
      "Loaded 400000 word vectors.\n"
     ]
    }
   ],
   "source": [
    "embeddings_index_ex = dict()\n",
    "with open(\"glove.6B.50d.txt\", 'r', encoding='utf-8') as f:\n",
    "    for line in f:\n",
    "        values = line.split()\n",
    "        word = values[0]\n",
    "        coefs = np.asarray(values[1:], dtype='float32')\n",
    "        embeddings_index_ex[word] = coefs\n",
    "#    f.close()\n",
    "print('Loaded %s word vectors.' % len(embeddings_index_ex))"
   ]
  },
  {
   "cell_type": "code",
   "execution_count": 23,
   "metadata": {},
   "outputs": [],
   "source": [
    "# create a weight matrix for words in training docs\n",
    "embedding_matrix_ex = np.zeros((vocab_size, 50))\n",
    "for word, i in t.word_index.items():\n",
    "    embedding_vector = embeddings_index_ex.get(word)\n",
    "    if embedding_vector is not None:\n",
    "        embedding_matrix_ex[i] = embedding_vector"
   ]
  },
  {
   "cell_type": "code",
   "execution_count": 24,
   "metadata": {},
   "outputs": [],
   "source": [
    "# This is a hepler method to display and plot results\n",
    "def showResults(history):\n",
    "    val_acc = np.array(history.history['val_main_output_acc'])\n",
    "    train_ac = np.array(history.history['main_output_acc'])\n",
    "    print(\"Best validation Accuracy: %.4f\" % max(val_acc))\n",
    "    print(\"Best train Accuracy: %.4f\" %  max(train_ac))\n",
    "\n",
    "    plt.figure(figsize=(14, 4))\n",
    "    ax = plt.subplot(121)\n",
    "\n",
    "    # Plot Loss Vs Epoch for Train and validation Sets\n",
    "    plt.xlabel(\"Epochs\")\n",
    "    plt.ylabel(\"Loss\")\n",
    "    plt.plot( [i + 1 for i in range(len(history.history['loss']))], history.history['loss'],  '-gD', marker='o', label=\"Training loss\")\n",
    "    plt.plot( [i + 1 for i in range(len(history.history['val_loss']))], history.history['val_loss'],  '-bD', marker='o', label=\"Validation loss\")\n",
    "    plt.legend(loc=\"best\")\n",
    "\n",
    "    # Plot Accuracy Vs Epoch for Train and validation Sets\n",
    "    ax = plt.subplot(122)\n",
    "    plt.xlabel(\"Epochs\")\n",
    "    plt.ylabel(\"Accuracy\")\n",
    "    plt.plot( [i + 1 for i in range(len(history.history['main_output_acc']))], history.history['main_output_acc'],  '-gD', marker='o', label=\"Train Accuracy\")\n",
    "    plt.plot( [i + 1 for i in range(len(history.history['val_main_output_acc']))], history.history['val_main_output_acc'],  '-bD', marker='o', label=\"Validation Accuracy\")\n",
    "    plt.legend(loc=\"best\")"
   ]
  },
  {
   "cell_type": "code",
   "execution_count": 25,
   "metadata": {},
   "outputs": [],
   "source": [
    "def encodeDoc(data, size):\n",
    "# integer encode the documents\n",
    "#encoded_docs = t.texts_to_sequences(all_data_processed['Headline'])\n",
    "#encoded_docs = t.texts_to_sequences(train_data)\n",
    "    encoded_docs = t.texts_to_sequences(data)\n",
    "\n",
    "    #print(encoded_docs)\n",
    "    # pad documents to a max length of 4 words\n",
    "    max_length = size\n",
    "    padded_docs = pad_sequences(encoded_docs, maxlen=max_length, padding='post')\n",
    "    #print(padded_docs)\n",
    "    \n",
    "    return padded_docs"
   ]
  },
  {
   "cell_type": "code",
   "execution_count": 26,
   "metadata": {},
   "outputs": [],
   "source": [
    "padded_docs_h = encodeDoc(dev_data['Headline'],10)\n",
    "padded_docs_b = encodeDoc(dev_data['articleBody'], 35)\n",
    "padded_test_docs_h = encodeDoc(test_data['Headline'],10)\n",
    "padded_test_docs_b = encodeDoc(test_data['articleBody'], 35)\n"
   ]
  },
  {
   "cell_type": "code",
   "execution_count": 27,
   "metadata": {},
   "outputs": [
    {
     "name": "stdout",
     "output_type": "stream",
     "text": [
      "WARNING:tensorflow:From C:\\Users\\vwang80\\Anaconda3\\lib\\site-packages\\tensorflow\\python\\ops\\resource_variable_ops.py:435: colocate_with (from tensorflow.python.framework.ops) is deprecated and will be removed in a future version.\n",
      "Instructions for updating:\n",
      "Colocations handled automatically by placer.\n"
     ]
    }
   ],
   "source": [
    "# Note that we can name any layer by passing it a \"name\" argument.\n",
    "headline_input = Input(shape=(10,), dtype='int32', name='headline_input')\n",
    "\n",
    "# This embedding layer will encode the input sequence\n",
    "# into a sequence of dense 512-dimensional vectors.\n",
    "emb_h = Embedding(vocab_size, 50, weights=[embedding_matrix_ex], input_length=10, trainable=False)(headline_input)\n",
    "\n",
    "# A LSTM will transform the vector sequence into a single vector,\n",
    "# containing information about the entire sequence\n",
    "lstm_out_h = LSTM(32)(emb_h)\n",
    "headline_out = Dense(1, activation='sigmoid', name='headline_out')(lstm_out_h)"
   ]
  },
  {
   "cell_type": "code",
   "execution_count": 28,
   "metadata": {},
   "outputs": [],
   "source": [
    "# Note that we can name any layer by passing it a \"name\" argument.\n",
    "body_input = Input(shape=(35,), dtype='int32', name='body_input')\n",
    "\n",
    "# This embedding layer will encode the input sequence\n",
    "# into a sequence of dense 512-dimensional vectors.\n",
    "emb_b = Embedding(vocab_size, 50, weights=[embedding_matrix_ex], input_length=35, trainable=False)(body_input)\n",
    "\n",
    "# A LSTM will transform the vector sequence into a single vector,\n",
    "# containing information about the entire sequence\n",
    "lstm_out_b = LSTM(32)(emb_b)\n",
    "body_out = Dense(1, activation='sigmoid', name='body_out')(lstm_out_b)"
   ]
  },
  {
   "cell_type": "code",
   "execution_count": 29,
   "metadata": {},
   "outputs": [
    {
     "name": "stdout",
     "output_type": "stream",
     "text": [
      "WARNING:tensorflow:From C:\\Users\\vwang80\\Anaconda3\\lib\\site-packages\\tensorflow\\python\\keras\\layers\\core.py:143: calling dropout (from tensorflow.python.ops.nn_ops) with keep_prob is deprecated and will be removed in a future version.\n",
      "Instructions for updating:\n",
      "Please use `rate` instead of `keep_prob`. Rate should be set to `rate = 1 - keep_prob`.\n"
     ]
    }
   ],
   "source": [
    "#x = keras.layers.concatenate([headline_out, body_out])\n",
    "conc = tf.keras.layers.concatenate([headline_out, body_out])\n",
    "\n",
    "# We stack a deep densely-connected network on top\n",
    "x = Dense(64, activation='relu')(conc)\n",
    "x = BatchNormalization(axis=-1, momentum=0.99, epsilon=0.001, center=True, scale=True, beta_initializer='zeros', gamma_initializer='ones', moving_mean_initializer='zeros', moving_variance_initializer='ones', beta_regularizer=None, gamma_regularizer=None, beta_constraint=None, gamma_constraint=None)(x)\n",
    "x = Dropout(0.5)(x)\n",
    "x = Dense(64, activation='relu')(x)\n",
    "x = Dropout(0.5)(x)\n",
    "x = Dense(64, activation='relu')(x)\n",
    "\n",
    "# And finally we add the main logistic regression layer\n",
    "main_output = Dense(1, activation='sigmoid', name='main_output')(x)"
   ]
  },
  {
   "cell_type": "code",
   "execution_count": 30,
   "metadata": {},
   "outputs": [],
   "source": [
    "model5 = Model(inputs=[headline_input, body_input], outputs=[main_output, headline_out, body_out ])"
   ]
  },
  {
   "cell_type": "code",
   "execution_count": 31,
   "metadata": {},
   "outputs": [],
   "source": [
    "model5.compile(optimizer='adam', loss='binary_crossentropy',metrics=['accuracy'])"
   ]
  },
  {
   "cell_type": "code",
   "execution_count": 32,
   "metadata": {},
   "outputs": [
    {
     "name": "stdout",
     "output_type": "stream",
     "text": [
      "Train on 1599 samples, validate on 400 samples\n",
      "WARNING:tensorflow:From C:\\Users\\vwang80\\Anaconda3\\lib\\site-packages\\tensorflow\\python\\ops\\math_ops.py:3066: to_int32 (from tensorflow.python.ops.math_ops) is deprecated and will be removed in a future version.\n",
      "Instructions for updating:\n",
      "Use tf.cast instead.\n",
      "Epoch 1/80\n",
      "1599/1599 [==============================] - 6s 4ms/sample - loss: 0.4203 - main_output_loss: 0.1828 - headline_out_loss: 0.1393 - body_out_loss: 0.0982 - main_output_acc: 0.8968 - headline_out_acc: 0.8856 - body_out_acc: 0.8737 - val_loss: -0.6006 - val_main_output_loss: -0.2365 - val_headline_out_loss: -0.1663 - val_body_out_loss: -0.1979 - val_main_output_acc: 0.9150 - val_headline_out_acc: 0.9100 - val_body_out_acc: 0.9150\n",
      "Epoch 2/80\n",
      "1599/1599 [==============================] - 4s 3ms/sample - loss: -0.9396 - main_output_loss: -0.4235 - headline_out_loss: -0.2622 - body_out_loss: -0.2538 - main_output_acc: 0.9131 - headline_out_acc: 0.9118 - body_out_acc: 0.9131 - val_loss: -1.6839 - val_main_output_loss: -0.8768 - val_headline_out_loss: -0.4204 - val_body_out_loss: -0.3866 - val_main_output_acc: 0.9150 - val_headline_out_acc: 0.9125 - val_body_out_acc: 0.9150\n",
      "Epoch 3/80\n",
      "1599/1599 [==============================] - 4s 3ms/sample - loss: -1.6756 - main_output_loss: -0.7927 - headline_out_loss: -0.4519 - body_out_loss: -0.4310 - main_output_acc: 0.9131 - headline_out_acc: 0.9124 - body_out_acc: 0.9131 - val_loss: -1.9753 - val_main_output_loss: -0.8768 - val_headline_out_loss: -0.5521 - val_body_out_loss: -0.5464 - val_main_output_acc: 0.9150 - val_headline_out_acc: 0.9125 - val_body_out_acc: 0.9150\n",
      "Epoch 4/80\n",
      "1599/1599 [==============================] - 4s 3ms/sample - loss: -1.8873 - main_output_loss: -0.8049 - headline_out_loss: -0.5471 - body_out_loss: -0.5354 - main_output_acc: 0.9131 - headline_out_acc: 0.9124 - body_out_acc: 0.9131 - val_loss: -2.1572 - val_main_output_loss: -0.8768 - val_headline_out_loss: -0.6348 - val_body_out_loss: -0.6455 - val_main_output_acc: 0.9150 - val_headline_out_acc: 0.9125 - val_body_out_acc: 0.9150\n",
      "Epoch 5/80\n",
      "1599/1599 [==============================] - 4s 3ms/sample - loss: -2.0471 - main_output_loss: -0.8066 - headline_out_loss: -0.6231 - body_out_loss: -0.6175 - main_output_acc: 0.9131 - headline_out_acc: 0.9124 - body_out_acc: 0.9131 - val_loss: -2.2986 - val_main_output_loss: -0.8768 - val_headline_out_loss: -0.7044 - val_body_out_loss: -0.7174 - val_main_output_acc: 0.9150 - val_headline_out_acc: 0.9125 - val_body_out_acc: 0.9150\n",
      "Epoch 6/80\n",
      "1599/1599 [==============================] - 4s 2ms/sample - loss: -2.1941 - main_output_loss: -0.8076 - headline_out_loss: -0.6963 - body_out_loss: -0.6902 - main_output_acc: 0.9131 - headline_out_acc: 0.9124 - body_out_acc: 0.9131 - val_loss: -2.4563 - val_main_output_loss: -0.8768 - val_headline_out_loss: -0.7813 - val_body_out_loss: -0.7982 - val_main_output_acc: 0.9150 - val_headline_out_acc: 0.9125 - val_body_out_acc: 0.9150\n",
      "Epoch 7/80\n",
      "1599/1599 [==============================] - 4s 3ms/sample - loss: -2.3435 - main_output_loss: -0.8076 - headline_out_loss: -0.7734 - body_out_loss: -0.7625 - main_output_acc: 0.9131 - headline_out_acc: 0.9124 - body_out_acc: 0.9131 - val_loss: -2.5898 - val_main_output_loss: -0.8768 - val_headline_out_loss: -0.8419 - val_body_out_loss: -0.8710 - val_main_output_acc: 0.9150 - val_headline_out_acc: 0.9150 - val_body_out_acc: 0.9150\n",
      "Epoch 8/80\n",
      "1599/1599 [==============================] - 4s 2ms/sample - loss: -2.4523 - main_output_loss: -0.8076 - headline_out_loss: -0.8393 - body_out_loss: -0.8054 - main_output_acc: 0.9131 - headline_out_acc: 0.9124 - body_out_acc: 0.9131 - val_loss: -2.6616 - val_main_output_loss: -0.8768 - val_headline_out_loss: -0.9079 - val_body_out_loss: -0.8768 - val_main_output_acc: 0.9150 - val_headline_out_acc: 0.9150 - val_body_out_acc: 0.9150\n",
      "Epoch 9/80\n",
      "1599/1599 [==============================] - 4s 3ms/sample - loss: -2.4610 - main_output_loss: -0.8073 - headline_out_loss: -0.8461 - body_out_loss: -0.8076 - main_output_acc: 0.9131 - headline_out_acc: 0.9124 - body_out_acc: 0.9131 - val_loss: -2.6598 - val_main_output_loss: -0.8768 - val_headline_out_loss: -0.9061 - val_body_out_loss: -0.8768 - val_main_output_acc: 0.9150 - val_headline_out_acc: 0.9100 - val_body_out_acc: 0.9150\n",
      "Epoch 10/80\n",
      "1599/1599 [==============================] - 4s 3ms/sample - loss: -2.4735 - main_output_loss: -0.8076 - headline_out_loss: -0.8583 - body_out_loss: -0.8076 - main_output_acc: 0.9131 - headline_out_acc: 0.9124 - body_out_acc: 0.9131 - val_loss: -2.6621 - val_main_output_loss: -0.8768 - val_headline_out_loss: -0.9084 - val_body_out_loss: -0.8768 - val_main_output_acc: 0.9150 - val_headline_out_acc: 0.9150 - val_body_out_acc: 0.9150\n",
      "Epoch 11/80\n",
      "1599/1599 [==============================] - 4s 3ms/sample - loss: -2.4801 - main_output_loss: -0.8076 - headline_out_loss: -0.8649 - body_out_loss: -0.8076 - main_output_acc: 0.9131 - headline_out_acc: 0.9124 - body_out_acc: 0.9131 - val_loss: -2.6620 - val_main_output_loss: -0.8768 - val_headline_out_loss: -0.9084 - val_body_out_loss: -0.8768 - val_main_output_acc: 0.9150 - val_headline_out_acc: 0.9150 - val_body_out_acc: 0.9150\n",
      "Epoch 12/80\n",
      "1599/1599 [==============================] - 4s 3ms/sample - loss: -2.4784 - main_output_loss: -0.8076 - headline_out_loss: -0.8632 - body_out_loss: -0.8076 - main_output_acc: 0.9131 - headline_out_acc: 0.9124 - body_out_acc: 0.9131 - val_loss: -2.6629 - val_main_output_loss: -0.8768 - val_headline_out_loss: -0.9092 - val_body_out_loss: -0.8768 - val_main_output_acc: 0.9150 - val_headline_out_acc: 0.9150 - val_body_out_acc: 0.9150\n",
      "Epoch 13/80\n",
      "1599/1599 [==============================] - 4s 3ms/sample - loss: -2.4891 - main_output_loss: -0.8072 - headline_out_loss: -0.8743 - body_out_loss: -0.8076 - main_output_acc: 0.9131 - headline_out_acc: 0.9131 - body_out_acc: 0.9131 - val_loss: -2.6581 - val_main_output_loss: -0.8768 - val_headline_out_loss: -0.9044 - val_body_out_loss: -0.8768 - val_main_output_acc: 0.9150 - val_headline_out_acc: 0.9150 - val_body_out_acc: 0.9150\n",
      "Epoch 14/80\n",
      "1599/1599 [==============================] - 4s 3ms/sample - loss: -2.4970 - main_output_loss: -0.8116 - headline_out_loss: -0.8778 - body_out_loss: -0.8076 - main_output_acc: 0.9131 - headline_out_acc: 0.9143 - body_out_acc: 0.9131 - val_loss: -2.6547 - val_main_output_loss: -0.8768 - val_headline_out_loss: -0.9011 - val_body_out_loss: -0.8768 - val_main_output_acc: 0.9150 - val_headline_out_acc: 0.9150 - val_body_out_acc: 0.9150\n",
      "Epoch 15/80\n",
      "1599/1599 [==============================] - 4s 3ms/sample - loss: -2.5008 - main_output_loss: -0.8125 - headline_out_loss: -0.8807 - body_out_loss: -0.8076 - main_output_acc: 0.9131 - headline_out_acc: 0.9131 - body_out_acc: 0.9131 - val_loss: -2.6720 - val_main_output_loss: -0.8891 - val_headline_out_loss: -0.9061 - val_body_out_loss: -0.8768 - val_main_output_acc: 0.9150 - val_headline_out_acc: 0.9150 - val_body_out_acc: 0.9150\n",
      "Epoch 16/80\n",
      "1599/1599 [==============================] - 4s 3ms/sample - loss: -2.5472 - main_output_loss: -0.8449 - headline_out_loss: -0.8947 - body_out_loss: -0.8076 - main_output_acc: 0.9131 - headline_out_acc: 0.9131 - body_out_acc: 0.9131 - val_loss: -2.6839 - val_main_output_loss: -0.9101 - val_headline_out_loss: -0.8970 - val_body_out_loss: -0.8768 - val_main_output_acc: 0.9150 - val_headline_out_acc: 0.9150 - val_body_out_acc: 0.9150\n",
      "Epoch 17/80\n",
      "1599/1599 [==============================] - 4s 3ms/sample - loss: -2.5595 - main_output_loss: -0.8582 - headline_out_loss: -0.8938 - body_out_loss: -0.8076 - main_output_acc: 0.9124 - headline_out_acc: 0.9118 - body_out_acc: 0.9131 - val_loss: -2.6888 - val_main_output_loss: -0.9109 - val_headline_out_loss: -0.9011 - val_body_out_loss: -0.8768 - val_main_output_acc: 0.9150 - val_headline_out_acc: 0.9150 - val_body_out_acc: 0.9150\n",
      "Epoch 18/80\n",
      "1599/1599 [==============================] - 4s 3ms/sample - loss: -2.5865 - main_output_loss: -0.8756 - headline_out_loss: -0.9032 - body_out_loss: -0.8076 - main_output_acc: 0.9112 - headline_out_acc: 0.9124 - body_out_acc: 0.9131 - val_loss: -2.6747 - val_main_output_loss: -0.9062 - val_headline_out_loss: -0.8917 - val_body_out_loss: -0.8768 - val_main_output_acc: 0.9050 - val_headline_out_acc: 0.9150 - val_body_out_acc: 0.9150\n"
     ]
    },
    {
     "name": "stdout",
     "output_type": "stream",
     "text": [
      "Epoch 19/80\n",
      "1599/1599 [==============================] - 4s 3ms/sample - loss: -2.5946 - main_output_loss: -0.8763 - headline_out_loss: -0.9107 - body_out_loss: -0.8076 - main_output_acc: 0.9137 - headline_out_acc: 0.9149 - body_out_acc: 0.9131 - val_loss: -2.6678 - val_main_output_loss: -0.9048 - val_headline_out_loss: -0.8862 - val_body_out_loss: -0.8768 - val_main_output_acc: 0.9100 - val_headline_out_acc: 0.9150 - val_body_out_acc: 0.9150\n",
      "Epoch 20/80\n",
      "1599/1599 [==============================] - 4s 3ms/sample - loss: -2.6031 - main_output_loss: -0.8855 - headline_out_loss: -0.9100 - body_out_loss: -0.8076 - main_output_acc: 0.9112 - headline_out_acc: 0.9131 - body_out_acc: 0.9131 - val_loss: -2.6878 - val_main_output_loss: -0.9088 - val_headline_out_loss: -0.9021 - val_body_out_loss: -0.8768 - val_main_output_acc: 0.9150 - val_headline_out_acc: 0.9100 - val_body_out_acc: 0.9150\n",
      "Epoch 21/80\n",
      "1599/1599 [==============================] - 4s 3ms/sample - loss: -2.6216 - main_output_loss: -0.8958 - headline_out_loss: -0.9182 - body_out_loss: -0.8076 - main_output_acc: 0.9143 - headline_out_acc: 0.9156 - body_out_acc: 0.9131 - val_loss: -2.6476 - val_main_output_loss: -0.9019 - val_headline_out_loss: -0.8688 - val_body_out_loss: -0.8768 - val_main_output_acc: 0.9075 - val_headline_out_acc: 0.9075 - val_body_out_acc: 0.9150\n",
      "Epoch 22/80\n",
      "1599/1599 [==============================] - 4s 3ms/sample - loss: -2.6356 - main_output_loss: -0.9023 - headline_out_loss: -0.9257 - body_out_loss: -0.8076 - main_output_acc: 0.9131 - headline_out_acc: 0.9149 - body_out_acc: 0.9131 - val_loss: -2.6626 - val_main_output_loss: -0.9027 - val_headline_out_loss: -0.8831 - val_body_out_loss: -0.8768 - val_main_output_acc: 0.9075 - val_headline_out_acc: 0.9150 - val_body_out_acc: 0.9150\n",
      "Epoch 23/80\n",
      "1599/1599 [==============================] - 4s 3ms/sample - loss: -2.6575 - main_output_loss: -0.9182 - headline_out_loss: -0.9317 - body_out_loss: -0.8076 - main_output_acc: 0.9156 - headline_out_acc: 0.9137 - body_out_acc: 0.9131 - val_loss: -2.5853 - val_main_output_loss: -0.8488 - val_headline_out_loss: -0.8597 - val_body_out_loss: -0.8768 - val_main_output_acc: 0.9025 - val_headline_out_acc: 0.9075 - val_body_out_acc: 0.9150\n",
      "Epoch 24/80\n",
      "1599/1599 [==============================] - 4s 3ms/sample - loss: -2.6525 - main_output_loss: -0.9147 - headline_out_loss: -0.9303 - body_out_loss: -0.8076 - main_output_acc: 0.9118 - headline_out_acc: 0.9149 - body_out_acc: 0.9131 - val_loss: -2.6533 - val_main_output_loss: -0.9005 - val_headline_out_loss: -0.8760 - val_body_out_loss: -0.8768 - val_main_output_acc: 0.9000 - val_headline_out_acc: 0.9150 - val_body_out_acc: 0.9150\n",
      "Epoch 25/80\n",
      "1599/1599 [==============================] - 4s 3ms/sample - loss: -2.6559 - main_output_loss: -0.9159 - headline_out_loss: -0.9323 - body_out_loss: -0.8076 - main_output_acc: 0.9106 - headline_out_acc: 0.9137 - body_out_acc: 0.9131 - val_loss: -2.6551 - val_main_output_loss: -0.9036 - val_headline_out_loss: -0.8746 - val_body_out_loss: -0.8768 - val_main_output_acc: 0.9150 - val_headline_out_acc: 0.9050 - val_body_out_acc: 0.9150\n",
      "Epoch 26/80\n",
      "1599/1599 [==============================] - 4s 3ms/sample - loss: -2.6643 - main_output_loss: -0.9223 - headline_out_loss: -0.9344 - body_out_loss: -0.8076 - main_output_acc: 0.9112 - headline_out_acc: 0.9156 - body_out_acc: 0.9131 - val_loss: -2.6556 - val_main_output_loss: -0.9045 - val_headline_out_loss: -0.8742 - val_body_out_loss: -0.8768 - val_main_output_acc: 0.9150 - val_headline_out_acc: 0.9050 - val_body_out_acc: 0.9150\n",
      "Epoch 27/80\n",
      "1599/1599 [==============================] - 4s 3ms/sample - loss: -2.6665 - main_output_loss: -0.9230 - headline_out_loss: -0.9359 - body_out_loss: -0.8076 - main_output_acc: 0.9131 - headline_out_acc: 0.9162 - body_out_acc: 0.9131 - val_loss: -2.6445 - val_main_output_loss: -0.8963 - val_headline_out_loss: -0.8714 - val_body_out_loss: -0.8768 - val_main_output_acc: 0.9050 - val_headline_out_acc: 0.9125 - val_body_out_acc: 0.9150\n",
      "Epoch 28/80\n",
      "1599/1599 [==============================] - 4s 3ms/sample - loss: -2.6678 - main_output_loss: -0.9248 - headline_out_loss: -0.9354 - body_out_loss: -0.8076 - main_output_acc: 0.9149 - headline_out_acc: 0.9156 - body_out_acc: 0.9131 - val_loss: -2.6374 - val_main_output_loss: -0.8906 - val_headline_out_loss: -0.8699 - val_body_out_loss: -0.8768 - val_main_output_acc: 0.9125 - val_headline_out_acc: 0.9125 - val_body_out_acc: 0.9150\n",
      "Epoch 29/80\n",
      "1599/1599 [==============================] - 4s 3ms/sample - loss: -2.6774 - main_output_loss: -0.9317 - headline_out_loss: -0.9381 - body_out_loss: -0.8076 - main_output_acc: 0.9118 - headline_out_acc: 0.9162 - body_out_acc: 0.9131 - val_loss: -2.6615 - val_main_output_loss: -0.9035 - val_headline_out_loss: -0.8811 - val_body_out_loss: -0.8768 - val_main_output_acc: 0.9125 - val_headline_out_acc: 0.9125 - val_body_out_acc: 0.9150\n",
      "Epoch 30/80\n",
      "1599/1599 [==============================] - 4s 3ms/sample - loss: -2.6768 - main_output_loss: -0.9290 - headline_out_loss: -0.9402 - body_out_loss: -0.8076 - main_output_acc: 0.9124 - headline_out_acc: 0.9156 - body_out_acc: 0.9131 - val_loss: -2.6614 - val_main_output_loss: -0.9037 - val_headline_out_loss: -0.8808 - val_body_out_loss: -0.8768 - val_main_output_acc: 0.9050 - val_headline_out_acc: 0.9125 - val_body_out_acc: 0.9150\n",
      "Epoch 31/80\n",
      "1599/1599 [==============================] - 4s 3ms/sample - loss: -2.6841 - main_output_loss: -0.9332 - headline_out_loss: -0.9433 - body_out_loss: -0.8076 - main_output_acc: 0.9143 - headline_out_acc: 0.9156 - body_out_acc: 0.9131 - val_loss: -2.6360 - val_main_output_loss: -0.9001 - val_headline_out_loss: -0.8590 - val_body_out_loss: -0.8768 - val_main_output_acc: 0.9050 - val_headline_out_acc: 0.9075 - val_body_out_acc: 0.9150\n",
      "Epoch 32/80\n",
      "1599/1599 [==============================] - 4s 3ms/sample - loss: -2.6857 - main_output_loss: -0.9347 - headline_out_loss: -0.9434 - body_out_loss: -0.8076 - main_output_acc: 0.9156 - headline_out_acc: 0.9162 - body_out_acc: 0.9131 - val_loss: -2.6398 - val_main_output_loss: -0.9003 - val_headline_out_loss: -0.8626 - val_body_out_loss: -0.8768 - val_main_output_acc: 0.9050 - val_headline_out_acc: 0.9075 - val_body_out_acc: 0.9150\n",
      "Epoch 33/80\n",
      "1599/1599 [==============================] - 4s 3ms/sample - loss: -2.6884 - main_output_loss: -0.9332 - headline_out_loss: -0.9476 - body_out_loss: -0.8076 - main_output_acc: 0.9124 - headline_out_acc: 0.9162 - body_out_acc: 0.9131 - val_loss: -2.6543 - val_main_output_loss: -0.9066 - val_headline_out_loss: -0.8709 - val_body_out_loss: -0.8768 - val_main_output_acc: 0.9150 - val_headline_out_acc: 0.9075 - val_body_out_acc: 0.9150\n",
      "Epoch 34/80\n",
      "1599/1599 [==============================] - 4s 3ms/sample - loss: -2.6908 - main_output_loss: -0.9351 - headline_out_loss: -0.9481 - body_out_loss: -0.8076 - main_output_acc: 0.9137 - headline_out_acc: 0.9162 - body_out_acc: 0.9131 - val_loss: -2.6401 - val_main_output_loss: -0.8994 - val_headline_out_loss: -0.8639 - val_body_out_loss: -0.8768 - val_main_output_acc: 0.9000 - val_headline_out_acc: 0.9075 - val_body_out_acc: 0.9150\n",
      "Epoch 35/80\n",
      "1599/1599 [==============================] - 4s 3ms/sample - loss: -2.6937 - main_output_loss: -0.9361 - headline_out_loss: -0.9501 - body_out_loss: -0.8076 - main_output_acc: 0.9168 - headline_out_acc: 0.9162 - body_out_acc: 0.9131 - val_loss: -2.6568 - val_main_output_loss: -0.9010 - val_headline_out_loss: -0.8790 - val_body_out_loss: -0.8768 - val_main_output_acc: 0.9050 - val_headline_out_acc: 0.9075 - val_body_out_acc: 0.9150\n",
      "Epoch 36/80\n",
      "1599/1599 [==============================] - 4s 3ms/sample - loss: -2.6808 - main_output_loss: -0.9240 - headline_out_loss: -0.9492 - body_out_loss: -0.8076 - main_output_acc: 0.9131 - headline_out_acc: 0.9156 - body_out_acc: 0.9131 - val_loss: -2.6362 - val_main_output_loss: -0.9000 - val_headline_out_loss: -0.8593 - val_body_out_loss: -0.8768 - val_main_output_acc: 0.9000 - val_headline_out_acc: 0.9025 - val_body_out_acc: 0.9150\n",
      "Epoch 37/80\n"
     ]
    },
    {
     "name": "stdout",
     "output_type": "stream",
     "text": [
      "1599/1599 [==============================] - 4s 3ms/sample - loss: -2.7010 - main_output_loss: -0.9402 - headline_out_loss: -0.9532 - body_out_loss: -0.8076 - main_output_acc: 0.9118 - headline_out_acc: 0.9156 - body_out_acc: 0.9131 - val_loss: -2.6375 - val_main_output_loss: -0.8986 - val_headline_out_loss: -0.8621 - val_body_out_loss: -0.8768 - val_main_output_acc: 0.9000 - val_headline_out_acc: 0.9025 - val_body_out_acc: 0.9150\n",
      "Epoch 38/80\n",
      "1599/1599 [==============================] - 4s 3ms/sample - loss: -2.7101 - main_output_loss: -0.9457 - headline_out_loss: -0.9568 - body_out_loss: -0.8076 - main_output_acc: 0.9156 - headline_out_acc: 0.9156 - body_out_acc: 0.9131 - val_loss: -2.6447 - val_main_output_loss: -0.8989 - val_headline_out_loss: -0.8689 - val_body_out_loss: -0.8768 - val_main_output_acc: 0.9000 - val_headline_out_acc: 0.9025 - val_body_out_acc: 0.9150\n",
      "Epoch 39/80\n",
      "1599/1599 [==============================] - 4s 3ms/sample - loss: -2.7097 - main_output_loss: -0.9437 - headline_out_loss: -0.9584 - body_out_loss: -0.8076 - main_output_acc: 0.9149 - headline_out_acc: 0.9149 - body_out_acc: 0.9131 - val_loss: -2.6564 - val_main_output_loss: -0.8993 - val_headline_out_loss: -0.8802 - val_body_out_loss: -0.8768 - val_main_output_acc: 0.9000 - val_headline_out_acc: 0.9025 - val_body_out_acc: 0.9150\n",
      "Epoch 40/80\n",
      "1599/1599 [==============================] - 4s 3ms/sample - loss: -2.7162 - main_output_loss: -0.9485 - headline_out_loss: -0.9602 - body_out_loss: -0.8076 - main_output_acc: 0.9149 - headline_out_acc: 0.9162 - body_out_acc: 0.9131 - val_loss: -2.6210 - val_main_output_loss: -0.8955 - val_headline_out_loss: -0.8487 - val_body_out_loss: -0.8768 - val_main_output_acc: 0.9000 - val_headline_out_acc: 0.9000 - val_body_out_acc: 0.9150\n",
      "Epoch 41/80\n",
      "1599/1599 [==============================] - 4s 3ms/sample - loss: -2.6714 - main_output_loss: -0.9241 - headline_out_loss: -0.9397 - body_out_loss: -0.8076 - main_output_acc: 0.9106 - headline_out_acc: 0.9131 - body_out_acc: 0.9131 - val_loss: -2.6030 - val_main_output_loss: -0.9032 - val_headline_out_loss: -0.8230 - val_body_out_loss: -0.8768 - val_main_output_acc: 0.9150 - val_headline_out_acc: 0.9025 - val_body_out_acc: 0.9150\n",
      "Epoch 42/80\n",
      "1599/1599 [==============================] - 5s 3ms/sample - loss: -2.6860 - main_output_loss: -0.9255 - headline_out_loss: -0.9529 - body_out_loss: -0.8076 - main_output_acc: 0.9131 - headline_out_acc: 0.9162 - body_out_acc: 0.9131 - val_loss: -2.6594 - val_main_output_loss: -0.9039 - val_headline_out_loss: -0.8787 - val_body_out_loss: -0.8768 - val_main_output_acc: 0.9125 - val_headline_out_acc: 0.9075 - val_body_out_acc: 0.9150\n",
      "Epoch 43/80\n",
      "1599/1599 [==============================] - 4s 3ms/sample - loss: -2.6731 - main_output_loss: -0.9290 - headline_out_loss: -0.9365 - body_out_loss: -0.8076 - main_output_acc: 0.9118 - headline_out_acc: 0.9162 - body_out_acc: 0.9131 - val_loss: -2.6608 - val_main_output_loss: -0.9057 - val_headline_out_loss: -0.8783 - val_body_out_loss: -0.8768 - val_main_output_acc: 0.9150 - val_headline_out_acc: 0.9125 - val_body_out_acc: 0.9150\n",
      "Epoch 44/80\n",
      "1599/1599 [==============================] - 4s 3ms/sample - loss: -2.7085 - main_output_loss: -0.9471 - headline_out_loss: -0.9538 - body_out_loss: -0.8076 - main_output_acc: 0.9137 - headline_out_acc: 0.9168 - body_out_acc: 0.9131 - val_loss: -2.6255 - val_main_output_loss: -0.8961 - val_headline_out_loss: -0.8526 - val_body_out_loss: -0.8768 - val_main_output_acc: 0.9025 - val_headline_out_acc: 0.9025 - val_body_out_acc: 0.9150\n",
      "Epoch 45/80\n",
      "1599/1599 [==============================] - 4s 3ms/sample - loss: -2.7168 - main_output_loss: -0.9511 - headline_out_loss: -0.9581 - body_out_loss: -0.8076 - main_output_acc: 0.9137 - headline_out_acc: 0.9162 - body_out_acc: 0.9131 - val_loss: -2.6530 - val_main_output_loss: -0.9017 - val_headline_out_loss: -0.8745 - val_body_out_loss: -0.8768 - val_main_output_acc: 0.9025 - val_headline_out_acc: 0.9025 - val_body_out_acc: 0.9150\n",
      "Epoch 46/80\n",
      "1599/1599 [==============================] - 4s 3ms/sample - loss: -2.7190 - main_output_loss: -0.9519 - headline_out_loss: -0.9595 - body_out_loss: -0.8076 - main_output_acc: 0.9131 - headline_out_acc: 0.9149 - body_out_acc: 0.9131 - val_loss: -2.6504 - val_main_output_loss: -0.9003 - val_headline_out_loss: -0.8733 - val_body_out_loss: -0.8768 - val_main_output_acc: 0.9025 - val_headline_out_acc: 0.9025 - val_body_out_acc: 0.9150\n",
      "Epoch 47/80\n",
      "1599/1599 [==============================] - 4s 3ms/sample - loss: -2.7194 - main_output_loss: -0.9516 - headline_out_loss: -0.9602 - body_out_loss: -0.8076 - main_output_acc: 0.9137 - headline_out_acc: 0.9162 - body_out_acc: 0.9131 - val_loss: -2.6490 - val_main_output_loss: -0.9028 - val_headline_out_loss: -0.8694 - val_body_out_loss: -0.8768 - val_main_output_acc: 0.9025 - val_headline_out_acc: 0.9025 - val_body_out_acc: 0.9150\n",
      "Epoch 48/80\n",
      "1599/1599 [==============================] - 4s 3ms/sample - loss: -2.7228 - main_output_loss: -0.9544 - headline_out_loss: -0.9608 - body_out_loss: -0.8076 - main_output_acc: 0.9162 - headline_out_acc: 0.9156 - body_out_acc: 0.9131 - val_loss: -2.6441 - val_main_output_loss: -0.8994 - val_headline_out_loss: -0.8678 - val_body_out_loss: -0.8768 - val_main_output_acc: 0.9025 - val_headline_out_acc: 0.9025 - val_body_out_acc: 0.9150\n",
      "Epoch 49/80\n",
      "1599/1599 [==============================] - 5s 3ms/sample - loss: -2.7185 - main_output_loss: -0.9500 - headline_out_loss: -0.9609 - body_out_loss: -0.8076 - main_output_acc: 0.9106 - headline_out_acc: 0.9149 - body_out_acc: 0.9131 - val_loss: -2.6497 - val_main_output_loss: -0.9017 - val_headline_out_loss: -0.8711 - val_body_out_loss: -0.8768 - val_main_output_acc: 0.9025 - val_headline_out_acc: 0.9025 - val_body_out_acc: 0.9150\n",
      "Epoch 50/80\n",
      "1599/1599 [==============================] - 4s 3ms/sample - loss: -2.7191 - main_output_loss: -0.9505 - headline_out_loss: -0.9610 - body_out_loss: -0.8076 - main_output_acc: 0.9156 - headline_out_acc: 0.9162 - body_out_acc: 0.9131 - val_loss: -2.6418 - val_main_output_loss: -0.8989 - val_headline_out_loss: -0.8660 - val_body_out_loss: -0.8768 - val_main_output_acc: 0.9025 - val_headline_out_acc: 0.9025 - val_body_out_acc: 0.9150\n",
      "Epoch 51/80\n",
      "1599/1599 [==============================] - 4s 3ms/sample - loss: -2.7207 - main_output_loss: -0.9516 - headline_out_loss: -0.9615 - body_out_loss: -0.8076 - main_output_acc: 0.9118 - headline_out_acc: 0.9162 - body_out_acc: 0.9131 - val_loss: -2.6485 - val_main_output_loss: -0.9017 - val_headline_out_loss: -0.8700 - val_body_out_loss: -0.8768 - val_main_output_acc: 0.9025 - val_headline_out_acc: 0.9025 - val_body_out_acc: 0.9150\n",
      "Epoch 52/80\n",
      "1599/1599 [==============================] - 4s 3ms/sample - loss: -2.7229 - main_output_loss: -0.9535 - headline_out_loss: -0.9618 - body_out_loss: -0.8076 - main_output_acc: 0.9143 - headline_out_acc: 0.9156 - body_out_acc: 0.9131 - val_loss: -2.6506 - val_main_output_loss: -0.9030 - val_headline_out_loss: -0.8707 - val_body_out_loss: -0.8768 - val_main_output_acc: 0.9025 - val_headline_out_acc: 0.9025 - val_body_out_acc: 0.9150\n",
      "Epoch 53/80\n",
      "1599/1599 [==============================] - 4s 3ms/sample - loss: -2.7229 - main_output_loss: -0.9533 - headline_out_loss: -0.9620 - body_out_loss: -0.8076 - main_output_acc: 0.9149 - headline_out_acc: 0.9156 - body_out_acc: 0.9131 - val_loss: -2.6533 - val_main_output_loss: -0.9039 - val_headline_out_loss: -0.8725 - val_body_out_loss: -0.8768 - val_main_output_acc: 0.9100 - val_headline_out_acc: 0.9025 - val_body_out_acc: 0.9150\n",
      "Epoch 54/80\n",
      "1599/1599 [==============================] - 4s 3ms/sample - loss: -2.7231 - main_output_loss: -0.9543 - headline_out_loss: -0.9612 - body_out_loss: -0.8076 - main_output_acc: 0.9118 - headline_out_acc: 0.9156 - body_out_acc: 0.9131 - val_loss: -2.6415 - val_main_output_loss: -0.9002 - val_headline_out_loss: -0.8644 - val_body_out_loss: -0.8768 - val_main_output_acc: 0.9100 - val_headline_out_acc: 0.9025 - val_body_out_acc: 0.9150\n",
      "Epoch 55/80\n"
     ]
    },
    {
     "name": "stdout",
     "output_type": "stream",
     "text": [
      "1599/1599 [==============================] - 4s 3ms/sample - loss: -2.7311 - main_output_loss: -0.9607 - headline_out_loss: -0.9628 - body_out_loss: -0.8076 - main_output_acc: 0.9156 - headline_out_acc: 0.9156 - body_out_acc: 0.9131 - val_loss: -2.6533 - val_main_output_loss: -0.9032 - val_headline_out_loss: -0.8733 - val_body_out_loss: -0.8768 - val_main_output_acc: 0.9100 - val_headline_out_acc: 0.9025 - val_body_out_acc: 0.9150\n",
      "Epoch 56/80\n",
      "1599/1599 [==============================] - 4s 3ms/sample - loss: -2.7317 - main_output_loss: -0.9612 - headline_out_loss: -0.9630 - body_out_loss: -0.8076 - main_output_acc: 0.9137 - headline_out_acc: 0.9156 - body_out_acc: 0.9131 - val_loss: -2.6590 - val_main_output_loss: -0.9048 - val_headline_out_loss: -0.8774 - val_body_out_loss: -0.8768 - val_main_output_acc: 0.9075 - val_headline_out_acc: 0.9075 - val_body_out_acc: 0.9150\n",
      "Epoch 57/80\n",
      "1599/1599 [==============================] - 4s 3ms/sample - loss: -2.7324 - main_output_loss: -0.9616 - headline_out_loss: -0.9632 - body_out_loss: -0.8076 - main_output_acc: 0.9149 - headline_out_acc: 0.9156 - body_out_acc: 0.9131 - val_loss: -2.6579 - val_main_output_loss: -0.9038 - val_headline_out_loss: -0.8773 - val_body_out_loss: -0.8768 - val_main_output_acc: 0.9075 - val_headline_out_acc: 0.9075 - val_body_out_acc: 0.9150\n",
      "Epoch 58/80\n",
      "1599/1599 [==============================] - 4s 3ms/sample - loss: -2.7345 - main_output_loss: -0.9637 - headline_out_loss: -0.9632 - body_out_loss: -0.8076 - main_output_acc: 0.9162 - headline_out_acc: 0.9156 - body_out_acc: 0.9131 - val_loss: -2.6489 - val_main_output_loss: -0.8986 - val_headline_out_loss: -0.8735 - val_body_out_loss: -0.8768 - val_main_output_acc: 0.9025 - val_headline_out_acc: 0.9025 - val_body_out_acc: 0.9150\n",
      "Epoch 59/80\n",
      "1599/1599 [==============================] - 4s 3ms/sample - loss: -2.7324 - main_output_loss: -0.9617 - headline_out_loss: -0.9631 - body_out_loss: -0.8076 - main_output_acc: 0.9143 - headline_out_acc: 0.9149 - body_out_acc: 0.9131 - val_loss: -2.6571 - val_main_output_loss: -0.9028 - val_headline_out_loss: -0.8775 - val_body_out_loss: -0.8768 - val_main_output_acc: 0.9025 - val_headline_out_acc: 0.9025 - val_body_out_acc: 0.9150\n",
      "Epoch 60/80\n",
      "1599/1599 [==============================] - 4s 3ms/sample - loss: -2.7330 - main_output_loss: -0.9623 - headline_out_loss: -0.9632 - body_out_loss: -0.8076 - main_output_acc: 0.9137 - headline_out_acc: 0.9149 - body_out_acc: 0.9131 - val_loss: -2.6531 - val_main_output_loss: -0.9019 - val_headline_out_loss: -0.8744 - val_body_out_loss: -0.8768 - val_main_output_acc: 0.9025 - val_headline_out_acc: 0.9025 - val_body_out_acc: 0.9150\n",
      "Epoch 61/80\n",
      "1599/1599 [==============================] - 4s 3ms/sample - loss: -2.7316 - main_output_loss: -0.9606 - headline_out_loss: -0.9634 - body_out_loss: -0.8076 - main_output_acc: 0.9137 - headline_out_acc: 0.9156 - body_out_acc: 0.9131 - val_loss: -2.6470 - val_main_output_loss: -0.8999 - val_headline_out_loss: -0.8703 - val_body_out_loss: -0.8768 - val_main_output_acc: 0.9025 - val_headline_out_acc: 0.9025 - val_body_out_acc: 0.9150\n",
      "Epoch 62/80\n",
      "1599/1599 [==============================] - 4s 3ms/sample - loss: -2.7324 - main_output_loss: -0.9614 - headline_out_loss: -0.9634 - body_out_loss: -0.8076 - main_output_acc: 0.9099 - headline_out_acc: 0.9156 - body_out_acc: 0.9131 - val_loss: -2.6534 - val_main_output_loss: -0.9018 - val_headline_out_loss: -0.8747 - val_body_out_loss: -0.8768 - val_main_output_acc: 0.9075 - val_headline_out_acc: 0.9025 - val_body_out_acc: 0.9150\n",
      "Epoch 63/80\n",
      "1599/1599 [==============================] - 5s 3ms/sample - loss: -2.7344 - main_output_loss: -0.9630 - headline_out_loss: -0.9638 - body_out_loss: -0.8076 - main_output_acc: 0.9149 - headline_out_acc: 0.9156 - body_out_acc: 0.9131 - val_loss: -2.6651 - val_main_output_loss: -0.9047 - val_headline_out_loss: -0.8836 - val_body_out_loss: -0.8768 - val_main_output_acc: 0.9100 - val_headline_out_acc: 0.9025 - val_body_out_acc: 0.9150\n",
      "Epoch 64/80\n",
      "1599/1599 [==============================] - 5s 3ms/sample - loss: -2.7341 - main_output_loss: -0.9624 - headline_out_loss: -0.9641 - body_out_loss: -0.8076 - main_output_acc: 0.9156 - headline_out_acc: 0.9156 - body_out_acc: 0.9131 - val_loss: -2.6631 - val_main_output_loss: -0.9037 - val_headline_out_loss: -0.8826 - val_body_out_loss: -0.8768 - val_main_output_acc: 0.9025 - val_headline_out_acc: 0.9025 - val_body_out_acc: 0.9150\n",
      "Epoch 65/80\n",
      "1599/1599 [==============================] - 5s 3ms/sample - loss: -2.7329 - main_output_loss: -0.9614 - headline_out_loss: -0.9639 - body_out_loss: -0.8076 - main_output_acc: 0.9149 - headline_out_acc: 0.9168 - body_out_acc: 0.9131 - val_loss: -2.6619 - val_main_output_loss: -0.9048 - val_headline_out_loss: -0.8802 - val_body_out_loss: -0.8768 - val_main_output_acc: 0.9125 - val_headline_out_acc: 0.9075 - val_body_out_acc: 0.9150\n",
      "Epoch 66/80\n",
      "1599/1599 [==============================] - 5s 3ms/sample - loss: -2.7351 - main_output_loss: -0.9635 - headline_out_loss: -0.9640 - body_out_loss: -0.8076 - main_output_acc: 0.9162 - headline_out_acc: 0.9162 - body_out_acc: 0.9131 - val_loss: -2.6648 - val_main_output_loss: -0.9054 - val_headline_out_loss: -0.8826 - val_body_out_loss: -0.8768 - val_main_output_acc: 0.9150 - val_headline_out_acc: 0.9075 - val_body_out_acc: 0.9150\n",
      "Epoch 67/80\n",
      "1599/1599 [==============================] - 5s 3ms/sample - loss: -2.7319 - main_output_loss: -0.9602 - headline_out_loss: -0.9641 - body_out_loss: -0.8076 - main_output_acc: 0.9137 - headline_out_acc: 0.9168 - body_out_acc: 0.9131 - val_loss: -2.6640 - val_main_output_loss: -0.9055 - val_headline_out_loss: -0.8817 - val_body_out_loss: -0.8768 - val_main_output_acc: 0.9150 - val_headline_out_acc: 0.9025 - val_body_out_acc: 0.9150\n",
      "Epoch 68/80\n",
      "1599/1599 [==============================] - 6s 4ms/sample - loss: -2.7352 - main_output_loss: -0.9634 - headline_out_loss: -0.9643 - body_out_loss: -0.8076 - main_output_acc: 0.9168 - headline_out_acc: 0.9168 - body_out_acc: 0.9131 - val_loss: -2.6600 - val_main_output_loss: -0.9042 - val_headline_out_loss: -0.8789 - val_body_out_loss: -0.8768 - val_main_output_acc: 0.9125 - val_headline_out_acc: 0.9025 - val_body_out_acc: 0.9150\n",
      "Epoch 69/80\n",
      "1599/1599 [==============================] - 6s 4ms/sample - loss: -2.7321 - main_output_loss: -0.9602 - headline_out_loss: -0.9643 - body_out_loss: -0.8076 - main_output_acc: 0.9168 - headline_out_acc: 0.9168 - body_out_acc: 0.9131 - val_loss: -2.6630 - val_main_output_loss: -0.9048 - val_headline_out_loss: -0.8814 - val_body_out_loss: -0.8768 - val_main_output_acc: 0.9125 - val_headline_out_acc: 0.9075 - val_body_out_acc: 0.9150\n",
      "Epoch 70/80\n",
      "1599/1599 [==============================] - 5s 3ms/sample - loss: -2.7343 - main_output_loss: -0.9625 - headline_out_loss: -0.9642 - body_out_loss: -0.8076 - main_output_acc: 0.9137 - headline_out_acc: 0.9162 - body_out_acc: 0.9131 - val_loss: -2.6654 - val_main_output_loss: -0.9054 - val_headline_out_loss: -0.8831 - val_body_out_loss: -0.8768 - val_main_output_acc: 0.9150 - val_headline_out_acc: 0.9075 - val_body_out_acc: 0.9150\n",
      "Epoch 71/80\n",
      "1599/1599 [==============================] - 5s 3ms/sample - loss: -2.7335 - main_output_loss: -0.9615 - headline_out_loss: -0.9644 - body_out_loss: -0.8076 - main_output_acc: 0.9149 - headline_out_acc: 0.9162 - body_out_acc: 0.9131 - val_loss: -2.6639 - val_main_output_loss: -0.9040 - val_headline_out_loss: -0.8831 - val_body_out_loss: -0.8768 - val_main_output_acc: 0.9075 - val_headline_out_acc: 0.9075 - val_body_out_acc: 0.9150\n",
      "Epoch 72/80\n",
      "1599/1599 [==============================] - 5s 3ms/sample - loss: -2.7311 - main_output_loss: -0.9597 - headline_out_loss: -0.9638 - body_out_loss: -0.8076 - main_output_acc: 0.9093 - headline_out_acc: 0.9162 - body_out_acc: 0.9131 - val_loss: -2.6648 - val_main_output_loss: -0.9045 - val_headline_out_loss: -0.8835 - val_body_out_loss: -0.8768 - val_main_output_acc: 0.9150 - val_headline_out_acc: 0.9075 - val_body_out_acc: 0.9150\n",
      "Epoch 73/80\n"
     ]
    },
    {
     "name": "stdout",
     "output_type": "stream",
     "text": [
      "1599/1599 [==============================] - 5s 3ms/sample - loss: -2.7345 - main_output_loss: -0.9623 - headline_out_loss: -0.9646 - body_out_loss: -0.8076 - main_output_acc: 0.9143 - headline_out_acc: 0.9162 - body_out_acc: 0.9131 - val_loss: -2.6656 - val_main_output_loss: -0.9030 - val_headline_out_loss: -0.8857 - val_body_out_loss: -0.8768 - val_main_output_acc: 0.9075 - val_headline_out_acc: 0.9075 - val_body_out_acc: 0.9150\n",
      "Epoch 74/80\n",
      "1599/1599 [==============================] - 5s 3ms/sample - loss: -2.7299 - main_output_loss: -0.9584 - headline_out_loss: -0.9639 - body_out_loss: -0.8076 - main_output_acc: 0.9124 - headline_out_acc: 0.9156 - body_out_acc: 0.9131 - val_loss: -2.6625 - val_main_output_loss: -0.9014 - val_headline_out_loss: -0.8842 - val_body_out_loss: -0.8768 - val_main_output_acc: 0.9025 - val_headline_out_acc: 0.9075 - val_body_out_acc: 0.9150\n",
      "Epoch 75/80\n",
      "1599/1599 [==============================] - 5s 3ms/sample - loss: -2.7302 - main_output_loss: -0.9582 - headline_out_loss: -0.9643 - body_out_loss: -0.8076 - main_output_acc: 0.9156 - headline_out_acc: 0.9162 - body_out_acc: 0.9131 - val_loss: -2.6323 - val_main_output_loss: -0.8975 - val_headline_out_loss: -0.8580 - val_body_out_loss: -0.8768 - val_main_output_acc: 0.9025 - val_headline_out_acc: 0.9025 - val_body_out_acc: 0.9150\n",
      "Epoch 76/80\n",
      "1599/1599 [==============================] - 5s 3ms/sample - loss: -2.7268 - main_output_loss: -0.9585 - headline_out_loss: -0.9607 - body_out_loss: -0.8076 - main_output_acc: 0.9137 - headline_out_acc: 0.9156 - body_out_acc: 0.9131 - val_loss: -2.6433 - val_main_output_loss: -0.9008 - val_headline_out_loss: -0.8657 - val_body_out_loss: -0.8768 - val_main_output_acc: 0.9025 - val_headline_out_acc: 0.9025 - val_body_out_acc: 0.9150\n",
      "Epoch 77/80\n",
      "1599/1599 [==============================] - 5s 3ms/sample - loss: -2.7319 - main_output_loss: -0.9612 - headline_out_loss: -0.9631 - body_out_loss: -0.8076 - main_output_acc: 0.9143 - headline_out_acc: 0.9131 - body_out_acc: 0.9131 - val_loss: -2.6529 - val_main_output_loss: -0.9008 - val_headline_out_loss: -0.8752 - val_body_out_loss: -0.8768 - val_main_output_acc: 0.9025 - val_headline_out_acc: 0.9075 - val_body_out_acc: 0.9150\n",
      "Epoch 78/80\n",
      "1599/1599 [==============================] - 5s 3ms/sample - loss: -2.7314 - main_output_loss: -0.9600 - headline_out_loss: -0.9639 - body_out_loss: -0.8076 - main_output_acc: 0.9149 - headline_out_acc: 0.9162 - body_out_acc: 0.9131 - val_loss: -2.6549 - val_main_output_loss: -0.9012 - val_headline_out_loss: -0.8768 - val_body_out_loss: -0.8768 - val_main_output_acc: 0.9025 - val_headline_out_acc: 0.9075 - val_body_out_acc: 0.9150\n",
      "Epoch 79/80\n",
      "1599/1599 [==============================] - 5s 3ms/sample - loss: -2.7355 - main_output_loss: -0.9635 - headline_out_loss: -0.9644 - body_out_loss: -0.8076 - main_output_acc: 0.9137 - headline_out_acc: 0.9149 - body_out_acc: 0.9131 - val_loss: -2.6517 - val_main_output_loss: -0.8997 - val_headline_out_loss: -0.8752 - val_body_out_loss: -0.8768 - val_main_output_acc: 0.9025 - val_headline_out_acc: 0.9075 - val_body_out_acc: 0.9150\n",
      "Epoch 80/80\n",
      "1599/1599 [==============================] - 5s 3ms/sample - loss: -2.7358 - main_output_loss: -0.9637 - headline_out_loss: -0.9645 - body_out_loss: -0.8076 - main_output_acc: 0.9143 - headline_out_acc: 0.9162 - body_out_acc: 0.9131 - val_loss: -2.6540 - val_main_output_loss: -0.8996 - val_headline_out_loss: -0.8775 - val_body_out_loss: -0.8768 - val_main_output_acc: 0.9025 - val_headline_out_acc: 0.9075 - val_body_out_acc: 0.9150\n"
     ]
    }
   ],
   "source": [
    "# fit the model\n",
    "batch_size = 30\n",
    "history = model5.fit([padded_docs_h, padded_docs_b], [dev_labels,dev_labels,dev_labels], batch_size=batch_size, epochs=80, validation_split= 0.2)"
   ]
  },
  {
   "cell_type": "code",
   "execution_count": 33,
   "metadata": {},
   "outputs": [
    {
     "name": "stdout",
     "output_type": "stream",
     "text": [
      "1000/1000 [==============================] - 1s 1ms/sample - loss: -3.3740 - main_output_loss: -1.1305 - headline_out_loss: -1.0797 - body_out_loss: -1.1638 - main_output_acc: 0.8830 - headline_out_acc: 0.8870 - body_out_acc: 0.8930\n",
      "Loss: -3.373960\n",
      "Combined Loss: -1.130455\n",
      "Headline Loss: -1.079712\n",
      "Body Loss: -1.163794\n",
      "Accuracy: 0.883000\n",
      "Headline Accuracy: 0.887000\n",
      "Body Accuracy: 0.893000\n"
     ]
    }
   ],
   "source": [
    "# evaluate the model\n",
    "accuracy = model5.evaluate([padded_test_docs_h,padded_test_docs_b], [test_labels,test_labels,test_labels], verbose=1)\n",
    "print('Loss: %f' % (accuracy[0]))\n",
    "print('Combined Loss: %f' % (accuracy[1]))\n",
    "print('Headline Loss: %f' % (accuracy[2]))\n",
    "print('Body Loss: %f' % (accuracy[3]))\n",
    "print('Accuracy: %f' % (accuracy[4]))\n",
    "print('Headline Accuracy: %f' % (accuracy[5]))\n",
    "print('Body Accuracy: %f' % (accuracy[6]))"
   ]
  },
  {
   "cell_type": "code",
   "execution_count": 34,
   "metadata": {},
   "outputs": [
    {
     "name": "stdout",
     "output_type": "stream",
     "text": [
      "Best validation Accuracy: 0.9150\n",
      "Best train Accuracy: 0.9168\n"
     ]
    },
    {
     "data": {
      "image/png": "[encoded data removed]",
      "text/plain": [
       "<Figure size 1008x288 with 2 Axes>"
      ]
     },
     "metadata": {
      "needs_background": "light"
     },
     "output_type": "display_data"
    }
   ],
   "source": [
    "showResults(history)"
   ]
  },
  {
   "cell_type": "code",
   "execution_count": null,
   "metadata": {},
   "outputs": [],
   "source": []
  },
  {
   "cell_type": "code",
   "execution_count": null,
   "metadata": {},
   "outputs": [],
   "source": []
  },
  {
   "cell_type": "code",
   "execution_count": null,
   "metadata": {},
   "outputs": [],
   "source": []
  }
 ],
 "metadata": {
  "kernelspec": {
   "display_name": "Python 3",
   "language": "python",
   "name": "python3"
  },
  "language_info": {
   "codemirror_mode": {
    "name": "ipython",
    "version": 3
   },
   "file_extension": ".py",
   "mimetype": "text/x-python",
   "name": "python",
   "nbconvert_exporter": "python",
   "pygments_lexer": "ipython3",
   "version": "3.7.5"
  }
 },
 "nbformat": 4,
 "nbformat_minor": 2
}
